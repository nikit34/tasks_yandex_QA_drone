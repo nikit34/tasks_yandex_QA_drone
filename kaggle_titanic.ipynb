{
  "nbformat": 4,
  "nbformat_minor": 0,
  "metadata": {
    "kernelspec": {
      "display_name": "Python 3",
      "language": "python",
      "name": "python3"
    },
    "language_info": {
      "codemirror_mode": {
        "name": "ipython",
        "version": 3
      },
      "file_extension": ".py",
      "mimetype": "text/x-python",
      "name": "python",
      "nbconvert_exporter": "python",
      "pygments_lexer": "ipython3",
      "version": "3.6.4"
    },
    "colab": {
      "name": "kaggle_titanic.ipynb",
      "provenance": [],
      "toc_visible": true
    }
  },
  "cells": [
    {
      "cell_type": "markdown",
      "metadata": {
        "id": "Ajqyq9TYaesM"
      },
      "source": [
        "## Titanic: Machine Learning from Disaster\n",
        "**Predict survival on the Titanic**\n",
        "<hr>\n",
        "I barely remember first when exactly I watched Titanic movie but still now Titanic remains a discussion subject in the most diverse areas. The sinking of the RMS Titanic is one of the most infamous shipwrecks in history. It was April 15-1912 during her maiden voyage, the Titanic sank after colliding with an iceberg and killing 1502 out of 2224 passengers and crew. \n",
        "\n",
        "In this kaggle challenge, we're asked to complete the analysis of what sorts of people were likely to survive. In particular, we're asked to apply the tools of **machine learning** to predict which passengers survived the tragedy.\n",
        "\n",
        "More challenge information and datasets are available on [Kaagle Titanic Page](https://www.kaggle.com/c/titanic/data) The datasets has been split into two groups:\n",
        "\n",
        "- training set (train.csv)\n",
        "- test set (test.csv)"
      ]
    },
    {
      "cell_type": "markdown",
      "metadata": {
        "id": "irkByJl3aesN"
      },
      "source": [
        "## Look at the Big Picture <a class=\"anchor\" id=\"4-bullet\"></a>\n",
        "<hr>\n",
        "\n",
        "The goal is to build a Model that can predict the survival or the death of a given passenger based on a set of variables describing their such as age, sex, or passenger class on the boat.\n",
        "\n",
        "### Frame the Problem\n",
        "\n",
        "To frame the problem elegantly, is very much important because it will determine our problem spaces. What algorithms we will select, what performance measure we will use to evaluate our model and also how much effort we should spend tweaking it. \n",
        "\n",
        "The test set should be used to see how well our model performs on unseen data. For the test set, the ground truth for each passenger is not provided. It is our job to predict these outcomes. For each passenger in the test set, we use the trained model to predict whether or not they survived the sinking of the Titanic. We will use **Cross-validation** for evaluating estimator performance.\n",
        "\n",
        "Basically, we've two datasets are available, a `train set` and a `test set`. We'll be using the training set to build our predictive model and the testing set will be used to validate that model. This is a binary classification problem. \n",
        "\n",
        "To solve this **ML** problem, topics like feature analysis, data visualization, missing data imputation, feature engineering, model fine tuning and various classification models will be addressed for ensemble modeling.\n",
        "\n",
        "### Preprocessing\n",
        "\n",
        "In Data Science or ML problem spaces, Data Preprocessing means a lot, which is to make the Data usable or clean before using it, like before fit the model.\n",
        "\n",
        "Now, the real world data is so messy, like following -\n",
        "* **inconsistant values**\n",
        "* **duplicate records**\n",
        "* **missing values**\n",
        "* **invalid data**\n",
        "* **outlier**\n",
        "\n",
        "So what? Actually this is a matter of big concern. Because, Model can't handle missing data. So, we need to handle this manually. Actually there're many approaches we can take to handle missing value in our data sets, such as-\n",
        "\n",
        "* **Remove observation/records that have missing values.** But..\n",
        "  - data may randomly missing, so by doing this we may loss a lots of data\n",
        "  - data may non-randomly missing, so by doing this we may also loss a lots of data, again we're also    introducing potential biases \n",
        "  \n",
        "* **Imputation**\n",
        "  - replace missing values with another values \n",
        "  - strategies: mean, median or highest frequency value of the given feature"
      ]
    },
    {
      "cell_type": "markdown",
      "metadata": {
        "id": "zxOFhOecaesN"
      },
      "source": [
        "\n",
        "## Table of Contents\n",
        "<hr>\n",
        "The steps we will go through:\n",
        "\n",
        "[Get The Data](#2-bullet)\n",
        "\n",
        "Here we explore what inside of the dataset and make our first commit on it.\n",
        "    \n",
        "[Feature Analysis To Gain Insights](#5-bullet)\n",
        "\n",
        "First we try to find out outlier from our datasets. There're many method to dectect outlier but here we will use tukey method to detect it. Then we will do component analysis of our features.\n",
        "\n",
        "[Feature Engineering](#9-bullet)\n",
        "\n",
        "Feature engineering is the process of using domain knowledge of the data to create features that make machine learning algorithms work. And here, in our datasets there are few features that we can do engineering on it. I like to choose two of them.\n",
        "    - Name\n",
        "    - Family Size\n",
        "    \n",
        "[Predictive Modeling](#10-bullet)\n",
        "\n",
        "Here, we will use various classificatiom models and compare the results. We'll use Cross-validation for evaluating estimator performance and fine-tune the model and observe the learning curve, of best estimator and finally, will do enseble modeling of with three best predictive model. \n",
        "\n",
        "[Submit Predictor](#11-bullet)\n",
        "\n",
        "Create a CSV file and submit to Kaggle."
      ]
    },
    {
      "cell_type": "markdown",
      "metadata": {
        "id": "BVUYqdNqaesO"
      },
      "source": [
        "# Import <a class=\"anchor\" id=\"1-bullet\"></a>\n",
        "<hr>\n",
        "At first we will load some various libraries. At first sight it may be confusing but we will see the use cases each of them in details later on."
      ]
    },
    {
      "cell_type": "code",
      "metadata": {
        "id": "F7ha-YtWbIDp"
      },
      "source": [
        "# from google.colab import files\n",
        "# files.upload()\n",
        "# ! mkdir ~/.kaggle\n",
        "# ! cp kaggle.json ~/.kaggle/\n",
        "# ! chmod 600 ~/.kaggle/kaggle.json\n",
        "# ! kaggle datasets list\n",
        "# ! kaggle competitions download -c titanic"
      ],
      "execution_count": 4,
      "outputs": []
    },
    {
      "cell_type": "code",
      "metadata": {
        "id": "0wzS0afEaesO"
      },
      "source": [
        "# Data Processing and Visualization Libraries\n",
        "import pandas as pd\n",
        "import numpy as np\n",
        "import matplotlib.pyplot as plt\n",
        "import seaborn as sns\n",
        "\n",
        "\n",
        "\n",
        "#  Data Modelling Libraries\n",
        "from sklearn.ensemble import (RandomForestClassifier, AdaBoostClassifier,\n",
        "                             GradientBoostingClassifier, ExtraTreesClassifier,\n",
        "                             VotingClassifier)\n",
        "\n",
        "from sklearn.model_selection import (GridSearchCV, cross_val_score, cross_val_predict,\n",
        "                                     StratifiedKFold, learning_curve)\n",
        "\n",
        "\n",
        "from sklearn.metrics import (confusion_matrix, accuracy_score) \n",
        "from sklearn.discriminant_analysis import LinearDiscriminantAnalysis\n",
        "from sklearn.linear_model import LogisticRegression\n",
        "from sklearn.neighbors import KNeighborsClassifier\n",
        "from sklearn.neural_network import MLPClassifier\n",
        "from sklearn.tree import DecisionTreeClassifier\n",
        "from sklearn.naive_bayes import GaussianNB\n",
        "from sklearn.svm import SVC\n",
        "\n",
        "import warnings\n",
        "from collections import Counter\n",
        "\n",
        "sns.set(style = 'white' , context = 'notebook', palette = 'deep')\n",
        "warnings.filterwarnings('ignore', category = DeprecationWarning)\n",
        "%matplotlib inline"
      ],
      "execution_count": 5,
      "outputs": []
    },
    {
      "cell_type": "markdown",
      "metadata": {
        "id": "6BXEDZZNaesQ"
      },
      "source": [
        "# Get Data Sets<a class=\"anchor\" id=\"2-bullet\"></a>\n",
        "<hr>\n",
        "Using pandas, we now load the dataset. Basically two files, one is for training purpose and other is for testng."
      ]
    },
    {
      "cell_type": "code",
      "metadata": {
        "id": "v_XqUfWuaesR"
      },
      "source": [
        "# load the datasets using pandas's read_csv method\n",
        "train = pd.read_csv('train.csv')\n",
        "test = pd.read_csv('test.csv')\n",
        "\n",
        "# concat these two datasets, this will come handy while processing the data\n",
        "dataset =  pd.concat(objs=[train, test], axis=0).reset_index(drop=True)\n",
        "\n",
        "# separately store ID of test datasets, \n",
        "# this will be using at the end of the task to predict.\n",
        "TestPassengerID = test['PassengerId']"
      ],
      "execution_count": 6,
      "outputs": []
    },
    {
      "cell_type": "markdown",
      "metadata": {
        "id": "ExUA8Ut-aesT"
      },
      "source": [
        "## Look Inside <a class=\"anchor\" id=\"3-bullet\"></a>\n",
        "Let's look what we've just loaded. Datasets size, shape, short description and few more."
      ]
    },
    {
      "cell_type": "code",
      "metadata": {
        "id": "6NShxFzIaesT",
        "outputId": "74271007-8307-4d8d-ea8b-bf304f04ac4a",
        "colab": {
          "base_uri": "https://localhost:8080/",
          "height": 34
        }
      },
      "source": [
        "# shape of the data set\n",
        "train.shape"
      ],
      "execution_count": 7,
      "outputs": [
        {
          "output_type": "execute_result",
          "data": {
            "text/plain": [
              "(891, 12)"
            ]
          },
          "metadata": {
            "tags": []
          },
          "execution_count": 7
        }
      ]
    },
    {
      "cell_type": "markdown",
      "metadata": {
        "id": "rpo0Q1sIaesV"
      },
      "source": [
        "So it has 891 samples with 12 features. That's somewhat big, let's top 5 sample of it."
      ]
    },
    {
      "cell_type": "code",
      "metadata": {
        "id": "rSx_G6QpaesV",
        "outputId": "12fd3edb-b3a0-46d6-f83b-a0f94271a5ef",
        "colab": {
          "base_uri": "https://localhost:8080/",
          "height": 204
        }
      },
      "source": [
        "# first 5 records\n",
        "train.head()"
      ],
      "execution_count": 8,
      "outputs": [
        {
          "output_type": "execute_result",
          "data": {
            "text/html": [
              "<div>\n",
              "<style scoped>\n",
              "    .dataframe tbody tr th:only-of-type {\n",
              "        vertical-align: middle;\n",
              "    }\n",
              "\n",
              "    .dataframe tbody tr th {\n",
              "        vertical-align: top;\n",
              "    }\n",
              "\n",
              "    .dataframe thead th {\n",
              "        text-align: right;\n",
              "    }\n",
              "</style>\n",
              "<table border=\"1\" class=\"dataframe\">\n",
              "  <thead>\n",
              "    <tr style=\"text-align: right;\">\n",
              "      <th></th>\n",
              "      <th>PassengerId</th>\n",
              "      <th>Survived</th>\n",
              "      <th>Pclass</th>\n",
              "      <th>Name</th>\n",
              "      <th>Sex</th>\n",
              "      <th>Age</th>\n",
              "      <th>SibSp</th>\n",
              "      <th>Parch</th>\n",
              "      <th>Ticket</th>\n",
              "      <th>Fare</th>\n",
              "      <th>Cabin</th>\n",
              "      <th>Embarked</th>\n",
              "    </tr>\n",
              "  </thead>\n",
              "  <tbody>\n",
              "    <tr>\n",
              "      <th>0</th>\n",
              "      <td>1</td>\n",
              "      <td>0</td>\n",
              "      <td>3</td>\n",
              "      <td>Braund, Mr. Owen Harris</td>\n",
              "      <td>male</td>\n",
              "      <td>22.0</td>\n",
              "      <td>1</td>\n",
              "      <td>0</td>\n",
              "      <td>A/5 21171</td>\n",
              "      <td>7.2500</td>\n",
              "      <td>NaN</td>\n",
              "      <td>S</td>\n",
              "    </tr>\n",
              "    <tr>\n",
              "      <th>1</th>\n",
              "      <td>2</td>\n",
              "      <td>1</td>\n",
              "      <td>1</td>\n",
              "      <td>Cumings, Mrs. John Bradley (Florence Briggs Th...</td>\n",
              "      <td>female</td>\n",
              "      <td>38.0</td>\n",
              "      <td>1</td>\n",
              "      <td>0</td>\n",
              "      <td>PC 17599</td>\n",
              "      <td>71.2833</td>\n",
              "      <td>C85</td>\n",
              "      <td>C</td>\n",
              "    </tr>\n",
              "    <tr>\n",
              "      <th>2</th>\n",
              "      <td>3</td>\n",
              "      <td>1</td>\n",
              "      <td>3</td>\n",
              "      <td>Heikkinen, Miss. Laina</td>\n",
              "      <td>female</td>\n",
              "      <td>26.0</td>\n",
              "      <td>0</td>\n",
              "      <td>0</td>\n",
              "      <td>STON/O2. 3101282</td>\n",
              "      <td>7.9250</td>\n",
              "      <td>NaN</td>\n",
              "      <td>S</td>\n",
              "    </tr>\n",
              "    <tr>\n",
              "      <th>3</th>\n",
              "      <td>4</td>\n",
              "      <td>1</td>\n",
              "      <td>1</td>\n",
              "      <td>Futrelle, Mrs. Jacques Heath (Lily May Peel)</td>\n",
              "      <td>female</td>\n",
              "      <td>35.0</td>\n",
              "      <td>1</td>\n",
              "      <td>0</td>\n",
              "      <td>113803</td>\n",
              "      <td>53.1000</td>\n",
              "      <td>C123</td>\n",
              "      <td>S</td>\n",
              "    </tr>\n",
              "    <tr>\n",
              "      <th>4</th>\n",
              "      <td>5</td>\n",
              "      <td>0</td>\n",
              "      <td>3</td>\n",
              "      <td>Allen, Mr. William Henry</td>\n",
              "      <td>male</td>\n",
              "      <td>35.0</td>\n",
              "      <td>0</td>\n",
              "      <td>0</td>\n",
              "      <td>373450</td>\n",
              "      <td>8.0500</td>\n",
              "      <td>NaN</td>\n",
              "      <td>S</td>\n",
              "    </tr>\n",
              "  </tbody>\n",
              "</table>\n",
              "</div>"
            ],
            "text/plain": [
              "   PassengerId  Survived  Pclass  ...     Fare Cabin  Embarked\n",
              "0            1         0       3  ...   7.2500   NaN         S\n",
              "1            2         1       1  ...  71.2833   C85         C\n",
              "2            3         1       3  ...   7.9250   NaN         S\n",
              "3            4         1       1  ...  53.1000  C123         S\n",
              "4            5         0       3  ...   8.0500   NaN         S\n",
              "\n",
              "[5 rows x 12 columns]"
            ]
          },
          "metadata": {
            "tags": []
          },
          "execution_count": 8
        }
      ]
    },
    {
      "cell_type": "markdown",
      "metadata": {
        "id": "zYExIdlhaesX"
      },
      "source": [
        "Definitions of each features and quick thoughts:\n",
        "\n",
        "- PassengerId. Unique identification of the passenger. It shouldn't be necessary for the machine learning model.\n",
        "\n",
        "- Survived. Survival (0 = No, 1 = Yes). Binary variable that will be our target variable.\n",
        "- Pclass. Ticket class (1 = 1st, 2 = 2nd, 3 = 3rd). Ready to go.\n",
        "- Name. Name of the passenger. We need to parse before using it.\n",
        "- Sex. Gender Categorical variable that should be encoded. We can use dummy variable to encode it.\n",
        "- Age. Age in years.\n",
        "- SibSp. Siblings / Spouses aboard the Titanic.\n",
        "- Parch. Parents / Children aboard the Titanic.\n",
        "- Ticket. Ticket number. Big mess. \n",
        "- Fare. Passenger fare.\n",
        "- Cabin. Cabin number.\n",
        "- Embarked. Port of Embarkation , C = Cherbourg, Q = Queenstown, S = Southampton. Categorical feature that should be encoded. We can use feature mapping or make dummy vairables for it.\n",
        "\n",
        "The main conclusion is that we already have a set of features that we can easily use in our machine learning model. But features like Name, Ticket, Cabin require an additional effort before we can integrate them."
      ]
    },
    {
      "cell_type": "code",
      "metadata": {
        "id": "2IbH5ubNaesY",
        "outputId": "3a44705e-c43e-46c8-8bb8-4fcf6425ea2e",
        "colab": {
          "base_uri": "https://localhost:8080/",
          "height": 340
        }
      },
      "source": [
        "# using info method we can get quick overview of the data sets\n",
        "train.info()"
      ],
      "execution_count": 9,
      "outputs": [
        {
          "output_type": "stream",
          "text": [
            "<class 'pandas.core.frame.DataFrame'>\n",
            "RangeIndex: 891 entries, 0 to 890\n",
            "Data columns (total 12 columns):\n",
            " #   Column       Non-Null Count  Dtype  \n",
            "---  ------       --------------  -----  \n",
            " 0   PassengerId  891 non-null    int64  \n",
            " 1   Survived     891 non-null    int64  \n",
            " 2   Pclass       891 non-null    int64  \n",
            " 3   Name         891 non-null    object \n",
            " 4   Sex          891 non-null    object \n",
            " 5   Age          714 non-null    float64\n",
            " 6   SibSp        891 non-null    int64  \n",
            " 7   Parch        891 non-null    int64  \n",
            " 8   Ticket       891 non-null    object \n",
            " 9   Fare         891 non-null    float64\n",
            " 10  Cabin        204 non-null    object \n",
            " 11  Embarked     889 non-null    object \n",
            "dtypes: float64(2), int64(5), object(5)\n",
            "memory usage: 83.7+ KB\n"
          ],
          "name": "stdout"
        }
      ]
    },
    {
      "cell_type": "markdown",
      "metadata": {
        "id": "MC3hMTsyaesa"
      },
      "source": [
        "One things to notice, we have 891 samples or entries but columns like **Age**, **Cabin** and **Embarked** have some missing values. We can't ignore those. However, let's generate the descriptive statistics to get the basic quantitative information about the features of our data set."
      ]
    },
    {
      "cell_type": "code",
      "metadata": {
        "id": "8erAv2aEaesa",
        "outputId": "da0464cd-5c97-4041-9225-820a29e6d5cb",
        "colab": {
          "base_uri": "https://localhost:8080/",
          "height": 297
        }
      },
      "source": [
        "# Descriptive Statistics\n",
        "train.describe()"
      ],
      "execution_count": 10,
      "outputs": [
        {
          "output_type": "execute_result",
          "data": {
            "text/html": [
              "<div>\n",
              "<style scoped>\n",
              "    .dataframe tbody tr th:only-of-type {\n",
              "        vertical-align: middle;\n",
              "    }\n",
              "\n",
              "    .dataframe tbody tr th {\n",
              "        vertical-align: top;\n",
              "    }\n",
              "\n",
              "    .dataframe thead th {\n",
              "        text-align: right;\n",
              "    }\n",
              "</style>\n",
              "<table border=\"1\" class=\"dataframe\">\n",
              "  <thead>\n",
              "    <tr style=\"text-align: right;\">\n",
              "      <th></th>\n",
              "      <th>PassengerId</th>\n",
              "      <th>Survived</th>\n",
              "      <th>Pclass</th>\n",
              "      <th>Age</th>\n",
              "      <th>SibSp</th>\n",
              "      <th>Parch</th>\n",
              "      <th>Fare</th>\n",
              "    </tr>\n",
              "  </thead>\n",
              "  <tbody>\n",
              "    <tr>\n",
              "      <th>count</th>\n",
              "      <td>891.000000</td>\n",
              "      <td>891.000000</td>\n",
              "      <td>891.000000</td>\n",
              "      <td>714.000000</td>\n",
              "      <td>891.000000</td>\n",
              "      <td>891.000000</td>\n",
              "      <td>891.000000</td>\n",
              "    </tr>\n",
              "    <tr>\n",
              "      <th>mean</th>\n",
              "      <td>446.000000</td>\n",
              "      <td>0.383838</td>\n",
              "      <td>2.308642</td>\n",
              "      <td>29.699118</td>\n",
              "      <td>0.523008</td>\n",
              "      <td>0.381594</td>\n",
              "      <td>32.204208</td>\n",
              "    </tr>\n",
              "    <tr>\n",
              "      <th>std</th>\n",
              "      <td>257.353842</td>\n",
              "      <td>0.486592</td>\n",
              "      <td>0.836071</td>\n",
              "      <td>14.526497</td>\n",
              "      <td>1.102743</td>\n",
              "      <td>0.806057</td>\n",
              "      <td>49.693429</td>\n",
              "    </tr>\n",
              "    <tr>\n",
              "      <th>min</th>\n",
              "      <td>1.000000</td>\n",
              "      <td>0.000000</td>\n",
              "      <td>1.000000</td>\n",
              "      <td>0.420000</td>\n",
              "      <td>0.000000</td>\n",
              "      <td>0.000000</td>\n",
              "      <td>0.000000</td>\n",
              "    </tr>\n",
              "    <tr>\n",
              "      <th>25%</th>\n",
              "      <td>223.500000</td>\n",
              "      <td>0.000000</td>\n",
              "      <td>2.000000</td>\n",
              "      <td>20.125000</td>\n",
              "      <td>0.000000</td>\n",
              "      <td>0.000000</td>\n",
              "      <td>7.910400</td>\n",
              "    </tr>\n",
              "    <tr>\n",
              "      <th>50%</th>\n",
              "      <td>446.000000</td>\n",
              "      <td>0.000000</td>\n",
              "      <td>3.000000</td>\n",
              "      <td>28.000000</td>\n",
              "      <td>0.000000</td>\n",
              "      <td>0.000000</td>\n",
              "      <td>14.454200</td>\n",
              "    </tr>\n",
              "    <tr>\n",
              "      <th>75%</th>\n",
              "      <td>668.500000</td>\n",
              "      <td>1.000000</td>\n",
              "      <td>3.000000</td>\n",
              "      <td>38.000000</td>\n",
              "      <td>1.000000</td>\n",
              "      <td>0.000000</td>\n",
              "      <td>31.000000</td>\n",
              "    </tr>\n",
              "    <tr>\n",
              "      <th>max</th>\n",
              "      <td>891.000000</td>\n",
              "      <td>1.000000</td>\n",
              "      <td>3.000000</td>\n",
              "      <td>80.000000</td>\n",
              "      <td>8.000000</td>\n",
              "      <td>6.000000</td>\n",
              "      <td>512.329200</td>\n",
              "    </tr>\n",
              "  </tbody>\n",
              "</table>\n",
              "</div>"
            ],
            "text/plain": [
              "       PassengerId    Survived      Pclass  ...       SibSp       Parch        Fare\n",
              "count   891.000000  891.000000  891.000000  ...  891.000000  891.000000  891.000000\n",
              "mean    446.000000    0.383838    2.308642  ...    0.523008    0.381594   32.204208\n",
              "std     257.353842    0.486592    0.836071  ...    1.102743    0.806057   49.693429\n",
              "min       1.000000    0.000000    1.000000  ...    0.000000    0.000000    0.000000\n",
              "25%     223.500000    0.000000    2.000000  ...    0.000000    0.000000    7.910400\n",
              "50%     446.000000    0.000000    3.000000  ...    0.000000    0.000000   14.454200\n",
              "75%     668.500000    1.000000    3.000000  ...    1.000000    0.000000   31.000000\n",
              "max     891.000000    1.000000    3.000000  ...    8.000000    6.000000  512.329200\n",
              "\n",
              "[8 rows x 7 columns]"
            ]
          },
          "metadata": {
            "tags": []
          },
          "execution_count": 10
        }
      ]
    },
    {
      "cell_type": "markdown",
      "metadata": {
        "id": "5u-_y_CNaesc"
      },
      "source": [
        "There are three aspects that usually catch my attention when I analyse descriptive statistics:\n",
        "\n",
        "- **Min and max values**: This can give us an idea about the range of values and is helpful to detect outliers.\n",
        "\n",
        "- **Mean and standard deviation**: The mean shows us the central tendency of the distribution, while the standard deviation quantifies its amount of variation.\n",
        "- **Count**: Give us a first perception about the volume of missing data. \n",
        "\n",
        "\n",
        "Let's define a function for missing data analysis more in details."
      ]
    },
    {
      "cell_type": "code",
      "metadata": {
        "id": "SCybG8Qpaesd"
      },
      "source": [
        "# Create table for missing data analysis\n",
        "def find_missing_data(data):\n",
        "    Total = data.isnull().sum().sort_values(ascending = False)\n",
        "    Percentage = (data.isnull().sum()/data.isnull().count()).sort_values(ascending = False)\n",
        "    \n",
        "    return pd.concat([Total,Percentage] , axis = 1 , keys = ['Total' , 'Percent'])"
      ],
      "execution_count": 11,
      "outputs": []
    },
    {
      "cell_type": "code",
      "metadata": {
        "id": "jgjV8PJvaese",
        "outputId": "88b933eb-6dac-432b-8980-a1d39d063eaa",
        "colab": {
          "base_uri": "https://localhost:8080/",
          "height": 421
        }
      },
      "source": [
        "find_missing_data(train)"
      ],
      "execution_count": 12,
      "outputs": [
        {
          "output_type": "execute_result",
          "data": {
            "text/html": [
              "<div>\n",
              "<style scoped>\n",
              "    .dataframe tbody tr th:only-of-type {\n",
              "        vertical-align: middle;\n",
              "    }\n",
              "\n",
              "    .dataframe tbody tr th {\n",
              "        vertical-align: top;\n",
              "    }\n",
              "\n",
              "    .dataframe thead th {\n",
              "        text-align: right;\n",
              "    }\n",
              "</style>\n",
              "<table border=\"1\" class=\"dataframe\">\n",
              "  <thead>\n",
              "    <tr style=\"text-align: right;\">\n",
              "      <th></th>\n",
              "      <th>Total</th>\n",
              "      <th>Percent</th>\n",
              "    </tr>\n",
              "  </thead>\n",
              "  <tbody>\n",
              "    <tr>\n",
              "      <th>Cabin</th>\n",
              "      <td>687</td>\n",
              "      <td>0.771044</td>\n",
              "    </tr>\n",
              "    <tr>\n",
              "      <th>Age</th>\n",
              "      <td>177</td>\n",
              "      <td>0.198653</td>\n",
              "    </tr>\n",
              "    <tr>\n",
              "      <th>Embarked</th>\n",
              "      <td>2</td>\n",
              "      <td>0.002245</td>\n",
              "    </tr>\n",
              "    <tr>\n",
              "      <th>Fare</th>\n",
              "      <td>0</td>\n",
              "      <td>0.000000</td>\n",
              "    </tr>\n",
              "    <tr>\n",
              "      <th>Ticket</th>\n",
              "      <td>0</td>\n",
              "      <td>0.000000</td>\n",
              "    </tr>\n",
              "    <tr>\n",
              "      <th>Parch</th>\n",
              "      <td>0</td>\n",
              "      <td>0.000000</td>\n",
              "    </tr>\n",
              "    <tr>\n",
              "      <th>SibSp</th>\n",
              "      <td>0</td>\n",
              "      <td>0.000000</td>\n",
              "    </tr>\n",
              "    <tr>\n",
              "      <th>Sex</th>\n",
              "      <td>0</td>\n",
              "      <td>0.000000</td>\n",
              "    </tr>\n",
              "    <tr>\n",
              "      <th>Name</th>\n",
              "      <td>0</td>\n",
              "      <td>0.000000</td>\n",
              "    </tr>\n",
              "    <tr>\n",
              "      <th>Pclass</th>\n",
              "      <td>0</td>\n",
              "      <td>0.000000</td>\n",
              "    </tr>\n",
              "    <tr>\n",
              "      <th>Survived</th>\n",
              "      <td>0</td>\n",
              "      <td>0.000000</td>\n",
              "    </tr>\n",
              "    <tr>\n",
              "      <th>PassengerId</th>\n",
              "      <td>0</td>\n",
              "      <td>0.000000</td>\n",
              "    </tr>\n",
              "  </tbody>\n",
              "</table>\n",
              "</div>"
            ],
            "text/plain": [
              "             Total   Percent\n",
              "Cabin          687  0.771044\n",
              "Age            177  0.198653\n",
              "Embarked         2  0.002245\n",
              "Fare             0  0.000000\n",
              "Ticket           0  0.000000\n",
              "Parch            0  0.000000\n",
              "SibSp            0  0.000000\n",
              "Sex              0  0.000000\n",
              "Name             0  0.000000\n",
              "Pclass           0  0.000000\n",
              "Survived         0  0.000000\n",
              "PassengerId      0  0.000000"
            ]
          },
          "metadata": {
            "tags": []
          },
          "execution_count": 12
        }
      ]
    },
    {
      "cell_type": "markdown",
      "metadata": {
        "id": "tCEvtu7iaesg"
      },
      "source": [
        "Let's create a heatmap plot to visualize the amount of missing values."
      ]
    },
    {
      "cell_type": "code",
      "metadata": {
        "id": "xPnoYWj3aesg",
        "outputId": "a23d9b3f-594f-4489-a61c-bde6021ff831",
        "colab": {
          "base_uri": "https://localhost:8080/",
          "height": 342
        }
      },
      "source": [
        "# checking only train set - visualize\n",
        "sns.heatmap(train.isnull(), cbar = False , \n",
        "            yticklabels = False , cmap = 'viridis')"
      ],
      "execution_count": 13,
      "outputs": [
        {
          "output_type": "execute_result",
          "data": {
            "text/plain": [
              "<matplotlib.axes._subplots.AxesSubplot at 0x7efc20a020b8>"
            ]
          },
          "metadata": {
            "tags": []
          },
          "execution_count": 13
        },
        {
          "output_type": "display_data",
          "data": {
            "image/png": "[encoded data removed]",
            "text/plain": [
              "<Figure size 432x288 with 1 Axes>"
            ]
          },
          "metadata": {
            "tags": [],
            "needs_background": "light"
          }
        }
      ]
    },
    {
      "cell_type": "markdown",
      "metadata": {
        "id": "cKNOANAjaesi"
      },
      "source": [
        "We can see that, Cabin feature has terrible amount of missing values, around 77% data are missing. Until now, we only see train datasets, now let's see amount of missing values in whole datasets."
      ]
    },
    {
      "cell_type": "code",
      "metadata": {
        "id": "cbNa0_K3aesi",
        "outputId": "7e8cabb3-7f36-424c-86bc-0c5ffe7c6f77",
        "colab": {
          "base_uri": "https://localhost:8080/",
          "height": 421
        }
      },
      "source": [
        "find_missing_data(dataset)"
      ],
      "execution_count": 14,
      "outputs": [
        {
          "output_type": "execute_result",
          "data": {
            "text/html": [
              "<div>\n",
              "<style scoped>\n",
              "    .dataframe tbody tr th:only-of-type {\n",
              "        vertical-align: middle;\n",
              "    }\n",
              "\n",
              "    .dataframe tbody tr th {\n",
              "        vertical-align: top;\n",
              "    }\n",
              "\n",
              "    .dataframe thead th {\n",
              "        text-align: right;\n",
              "    }\n",
              "</style>\n",
              "<table border=\"1\" class=\"dataframe\">\n",
              "  <thead>\n",
              "    <tr style=\"text-align: right;\">\n",
              "      <th></th>\n",
              "      <th>Total</th>\n",
              "      <th>Percent</th>\n",
              "    </tr>\n",
              "  </thead>\n",
              "  <tbody>\n",
              "    <tr>\n",
              "      <th>Cabin</th>\n",
              "      <td>1014</td>\n",
              "      <td>0.774637</td>\n",
              "    </tr>\n",
              "    <tr>\n",
              "      <th>Survived</th>\n",
              "      <td>418</td>\n",
              "      <td>0.319328</td>\n",
              "    </tr>\n",
              "    <tr>\n",
              "      <th>Age</th>\n",
              "      <td>263</td>\n",
              "      <td>0.200917</td>\n",
              "    </tr>\n",
              "    <tr>\n",
              "      <th>Embarked</th>\n",
              "      <td>2</td>\n",
              "      <td>0.001528</td>\n",
              "    </tr>\n",
              "    <tr>\n",
              "      <th>Fare</th>\n",
              "      <td>1</td>\n",
              "      <td>0.000764</td>\n",
              "    </tr>\n",
              "    <tr>\n",
              "      <th>Ticket</th>\n",
              "      <td>0</td>\n",
              "      <td>0.000000</td>\n",
              "    </tr>\n",
              "    <tr>\n",
              "      <th>Parch</th>\n",
              "      <td>0</td>\n",
              "      <td>0.000000</td>\n",
              "    </tr>\n",
              "    <tr>\n",
              "      <th>SibSp</th>\n",
              "      <td>0</td>\n",
              "      <td>0.000000</td>\n",
              "    </tr>\n",
              "    <tr>\n",
              "      <th>Sex</th>\n",
              "      <td>0</td>\n",
              "      <td>0.000000</td>\n",
              "    </tr>\n",
              "    <tr>\n",
              "      <th>Name</th>\n",
              "      <td>0</td>\n",
              "      <td>0.000000</td>\n",
              "    </tr>\n",
              "    <tr>\n",
              "      <th>Pclass</th>\n",
              "      <td>0</td>\n",
              "      <td>0.000000</td>\n",
              "    </tr>\n",
              "    <tr>\n",
              "      <th>PassengerId</th>\n",
              "      <td>0</td>\n",
              "      <td>0.000000</td>\n",
              "    </tr>\n",
              "  </tbody>\n",
              "</table>\n",
              "</div>"
            ],
            "text/plain": [
              "             Total   Percent\n",
              "Cabin         1014  0.774637\n",
              "Survived       418  0.319328\n",
              "Age            263  0.200917\n",
              "Embarked         2  0.001528\n",
              "Fare             1  0.000764\n",
              "Ticket           0  0.000000\n",
              "Parch            0  0.000000\n",
              "SibSp            0  0.000000\n",
              "Sex              0  0.000000\n",
              "Name             0  0.000000\n",
              "Pclass           0  0.000000\n",
              "PassengerId      0  0.000000"
            ]
          },
          "metadata": {
            "tags": []
          },
          "execution_count": 14
        }
      ]
    },
    {
      "cell_type": "code",
      "metadata": {
        "id": "m7jEhh-uaesk",
        "outputId": "d63e86bc-90db-4cf7-fe34-f7d550d2970a",
        "colab": {
          "base_uri": "https://localhost:8080/",
          "height": 342
        }
      },
      "source": [
        "# checking only datasets set\n",
        "sns.heatmap(dataset.isnull(), cbar = False , \n",
        "            yticklabels = False , cmap = 'viridis')"
      ],
      "execution_count": 15,
      "outputs": [
        {
          "output_type": "execute_result",
          "data": {
            "text/plain": [
              "<matplotlib.axes._subplots.AxesSubplot at 0x7efc1cedf908>"
            ]
          },
          "metadata": {
            "tags": []
          },
          "execution_count": 15
        },
        {
          "output_type": "display_data",
          "data": {
            "image/png": "[encoded data removed]",
            "text/plain": [
              "<Figure size 432x288 with 1 Axes>"
            ]
          },
          "metadata": {
            "tags": [],
            "needs_background": "light"
          }
        }
      ]
    },
    {
      "cell_type": "markdown",
      "metadata": {
        "id": "HHTeVahnaesm"
      },
      "source": [
        "As it mentioned earlier, ground truth of test datasets are missing.\n",
        "\n",
        "## Problem Spaces <a class=\"anchor\" id=\"4-bullet\"></a>\n",
        "\n",
        "So, we've this train data set and with a quick analysis we've seen its internal components and find some missing values there. We've also seen many observations with concern attributes. \n",
        "\n",
        "**Task**: The goal is to predict the survival or the death of a given passenger based on a set of variables describing their such as age, sex, or passenger class on the boat.\n",
        "\n",
        "So, **Survived** is our **target variable**, This is the variable we're going to predict. `1` represent **survived** , `0` represent **not survived**. And rest of the attributes are called **feature variables**, based on those we need to build a model which will predict whether a passenger survived or not.\n",
        "\n",
        "\n",
        "### Preprocessing\n",
        "In Data Science or ML contexts, Data Preprocessing means to make the Data usable or clean before using it, like before fit the model.\n",
        "\n",
        "Now, the real world data is so messy, they're like -\n",
        "* inconsistant\n",
        "* duplicate records\n",
        "* missing values\n",
        "* invalid data\n",
        "* outlier"
      ]
    },
    {
      "cell_type": "markdown",
      "metadata": {
        "id": "RqrZhQj7aesn"
      },
      "source": [
        "# Feature Analysis <a class=\"anchor\" id=\"5-bullet\"></a>\n",
        "<hr>\n",
        "\n",
        "### Outlier Detection <a class=\"anchor\" id=\"6-bullet\"></a>\n",
        "\n",
        "There are many method to detect outlier. We will use [Tukey Method](http://datapigtechnologies.com/blog/index.php/highlighting-outliers-in-your-data-with-the-tukey-method/) to accomplish it."
      ]
    },
    {
      "cell_type": "code",
      "metadata": {
        "id": "G56Gmdrsaesn"
      },
      "source": [
        "# Outlier detection \n",
        "\n",
        "def detect_outliers(df,n,features):\n",
        "    \"\"\"\n",
        "    Takes a dataframe df of features and returns a list of the indices\n",
        "    corresponding to the observations containing more than n outliers according\n",
        "    to the Tukey method.\n",
        "    \"\"\"\n",
        "    outlier_indices = []\n",
        "    \n",
        "    # iterate over features(columns)\n",
        "    for col in features:\n",
        "        \n",
        "        # 1st quartile (25%)\n",
        "        Q1 = np.percentile(df[col], 25)\n",
        "        \n",
        "        # 3rd quartile (75%)\n",
        "        Q3 = np.percentile(df[col],75)\n",
        "        \n",
        "        # Interquartile range (IQR)\n",
        "        IQR = Q3 - Q1\n",
        "        \n",
        "        # outlier step\n",
        "        outlier_step = 1.5 * IQR\n",
        "        \n",
        "        # Determine a list of indices of outliers for feature col\n",
        "        outlier_list_col = df[(df[col] < Q1 - outlier_step) | \n",
        "                              (df[col] > Q3 + outlier_step )].index\n",
        "        # append the found outlier indices for col to the list of outlier indices \n",
        "        outlier_indices.extend(outlier_list_col)\n",
        "   \n",
        "        \n",
        "    # select observations containing more than 2 outliers\n",
        "    outlier_indices = Counter(outlier_indices)  \n",
        "\n",
        "    multiple_outliers = list( k for k, v in outlier_indices.items() if v > n )\n",
        "    return multiple_outliers   \n",
        "\n",
        "# detect outliers from Age, SibSp , Parch and Fare\n",
        "Outliers_to_drop = detect_outliers(train,2,[\"Age\",\"SibSp\",\"Parch\",\"Fare\"])"
      ],
      "execution_count": 16,
      "outputs": []
    },
    {
      "cell_type": "code",
      "metadata": {
        "id": "PhBkDpN5aesp",
        "outputId": "c5e3aec1-28bc-45c8-c953-253b61522548",
        "colab": {
          "base_uri": "https://localhost:8080/",
          "height": 359
        }
      },
      "source": [
        "# Show the outliers rows\n",
        "train.loc[Outliers_to_drop]"
      ],
      "execution_count": 17,
      "outputs": [
        {
          "output_type": "execute_result",
          "data": {
            "text/html": [
              "<div>\n",
              "<style scoped>\n",
              "    .dataframe tbody tr th:only-of-type {\n",
              "        vertical-align: middle;\n",
              "    }\n",
              "\n",
              "    .dataframe tbody tr th {\n",
              "        vertical-align: top;\n",
              "    }\n",
              "\n",
              "    .dataframe thead th {\n",
              "        text-align: right;\n",
              "    }\n",
              "</style>\n",
              "<table border=\"1\" class=\"dataframe\">\n",
              "  <thead>\n",
              "    <tr style=\"text-align: right;\">\n",
              "      <th></th>\n",
              "      <th>PassengerId</th>\n",
              "      <th>Survived</th>\n",
              "      <th>Pclass</th>\n",
              "      <th>Name</th>\n",
              "      <th>Sex</th>\n",
              "      <th>Age</th>\n",
              "      <th>SibSp</th>\n",
              "      <th>Parch</th>\n",
              "      <th>Ticket</th>\n",
              "      <th>Fare</th>\n",
              "      <th>Cabin</th>\n",
              "      <th>Embarked</th>\n",
              "    </tr>\n",
              "  </thead>\n",
              "  <tbody>\n",
              "    <tr>\n",
              "      <th>27</th>\n",
              "      <td>28</td>\n",
              "      <td>0</td>\n",
              "      <td>1</td>\n",
              "      <td>Fortune, Mr. Charles Alexander</td>\n",
              "      <td>male</td>\n",
              "      <td>19.0</td>\n",
              "      <td>3</td>\n",
              "      <td>2</td>\n",
              "      <td>19950</td>\n",
              "      <td>263.00</td>\n",
              "      <td>C23 C25 C27</td>\n",
              "      <td>S</td>\n",
              "    </tr>\n",
              "    <tr>\n",
              "      <th>88</th>\n",
              "      <td>89</td>\n",
              "      <td>1</td>\n",
              "      <td>1</td>\n",
              "      <td>Fortune, Miss. Mabel Helen</td>\n",
              "      <td>female</td>\n",
              "      <td>23.0</td>\n",
              "      <td>3</td>\n",
              "      <td>2</td>\n",
              "      <td>19950</td>\n",
              "      <td>263.00</td>\n",
              "      <td>C23 C25 C27</td>\n",
              "      <td>S</td>\n",
              "    </tr>\n",
              "    <tr>\n",
              "      <th>159</th>\n",
              "      <td>160</td>\n",
              "      <td>0</td>\n",
              "      <td>3</td>\n",
              "      <td>Sage, Master. Thomas Henry</td>\n",
              "      <td>male</td>\n",
              "      <td>NaN</td>\n",
              "      <td>8</td>\n",
              "      <td>2</td>\n",
              "      <td>CA. 2343</td>\n",
              "      <td>69.55</td>\n",
              "      <td>NaN</td>\n",
              "      <td>S</td>\n",
              "    </tr>\n",
              "    <tr>\n",
              "      <th>180</th>\n",
              "      <td>181</td>\n",
              "      <td>0</td>\n",
              "      <td>3</td>\n",
              "      <td>Sage, Miss. Constance Gladys</td>\n",
              "      <td>female</td>\n",
              "      <td>NaN</td>\n",
              "      <td>8</td>\n",
              "      <td>2</td>\n",
              "      <td>CA. 2343</td>\n",
              "      <td>69.55</td>\n",
              "      <td>NaN</td>\n",
              "      <td>S</td>\n",
              "    </tr>\n",
              "    <tr>\n",
              "      <th>201</th>\n",
              "      <td>202</td>\n",
              "      <td>0</td>\n",
              "      <td>3</td>\n",
              "      <td>Sage, Mr. Frederick</td>\n",
              "      <td>male</td>\n",
              "      <td>NaN</td>\n",
              "      <td>8</td>\n",
              "      <td>2</td>\n",
              "      <td>CA. 2343</td>\n",
              "      <td>69.55</td>\n",
              "      <td>NaN</td>\n",
              "      <td>S</td>\n",
              "    </tr>\n",
              "    <tr>\n",
              "      <th>324</th>\n",
              "      <td>325</td>\n",
              "      <td>0</td>\n",
              "      <td>3</td>\n",
              "      <td>Sage, Mr. George John Jr</td>\n",
              "      <td>male</td>\n",
              "      <td>NaN</td>\n",
              "      <td>8</td>\n",
              "      <td>2</td>\n",
              "      <td>CA. 2343</td>\n",
              "      <td>69.55</td>\n",
              "      <td>NaN</td>\n",
              "      <td>S</td>\n",
              "    </tr>\n",
              "    <tr>\n",
              "      <th>341</th>\n",
              "      <td>342</td>\n",
              "      <td>1</td>\n",
              "      <td>1</td>\n",
              "      <td>Fortune, Miss. Alice Elizabeth</td>\n",
              "      <td>female</td>\n",
              "      <td>24.0</td>\n",
              "      <td>3</td>\n",
              "      <td>2</td>\n",
              "      <td>19950</td>\n",
              "      <td>263.00</td>\n",
              "      <td>C23 C25 C27</td>\n",
              "      <td>S</td>\n",
              "    </tr>\n",
              "    <tr>\n",
              "      <th>792</th>\n",
              "      <td>793</td>\n",
              "      <td>0</td>\n",
              "      <td>3</td>\n",
              "      <td>Sage, Miss. Stella Anna</td>\n",
              "      <td>female</td>\n",
              "      <td>NaN</td>\n",
              "      <td>8</td>\n",
              "      <td>2</td>\n",
              "      <td>CA. 2343</td>\n",
              "      <td>69.55</td>\n",
              "      <td>NaN</td>\n",
              "      <td>S</td>\n",
              "    </tr>\n",
              "    <tr>\n",
              "      <th>846</th>\n",
              "      <td>847</td>\n",
              "      <td>0</td>\n",
              "      <td>3</td>\n",
              "      <td>Sage, Mr. Douglas Bullen</td>\n",
              "      <td>male</td>\n",
              "      <td>NaN</td>\n",
              "      <td>8</td>\n",
              "      <td>2</td>\n",
              "      <td>CA. 2343</td>\n",
              "      <td>69.55</td>\n",
              "      <td>NaN</td>\n",
              "      <td>S</td>\n",
              "    </tr>\n",
              "    <tr>\n",
              "      <th>863</th>\n",
              "      <td>864</td>\n",
              "      <td>0</td>\n",
              "      <td>3</td>\n",
              "      <td>Sage, Miss. Dorothy Edith \"Dolly\"</td>\n",
              "      <td>female</td>\n",
              "      <td>NaN</td>\n",
              "      <td>8</td>\n",
              "      <td>2</td>\n",
              "      <td>CA. 2343</td>\n",
              "      <td>69.55</td>\n",
              "      <td>NaN</td>\n",
              "      <td>S</td>\n",
              "    </tr>\n",
              "  </tbody>\n",
              "</table>\n",
              "</div>"
            ],
            "text/plain": [
              "     PassengerId  Survived  Pclass  ...    Fare        Cabin  Embarked\n",
              "27            28         0       1  ...  263.00  C23 C25 C27         S\n",
              "88            89         1       1  ...  263.00  C23 C25 C27         S\n",
              "159          160         0       3  ...   69.55          NaN         S\n",
              "180          181         0       3  ...   69.55          NaN         S\n",
              "201          202         0       3  ...   69.55          NaN         S\n",
              "324          325         0       3  ...   69.55          NaN         S\n",
              "341          342         1       1  ...  263.00  C23 C25 C27         S\n",
              "792          793         0       3  ...   69.55          NaN         S\n",
              "846          847         0       3  ...   69.55          NaN         S\n",
              "863          864         0       3  ...   69.55          NaN         S\n",
              "\n",
              "[10 rows x 12 columns]"
            ]
          },
          "metadata": {
            "tags": []
          },
          "execution_count": 17
        }
      ]
    },
    {
      "cell_type": "code",
      "metadata": {
        "id": "A5ENiZweaesr"
      },
      "source": [
        "# Drop outliers\n",
        "train = train.drop(Outliers_to_drop, axis = 0).reset_index(drop=True)\n",
        "\n",
        "# after removing outlier, let's re-concat the data sets\n",
        "dataset =  pd.concat(objs=[train, test], axis=0).reset_index(drop=True)"
      ],
      "execution_count": 18,
      "outputs": []
    },
    {
      "cell_type": "markdown",
      "metadata": {
        "id": "yU0kANvEaess"
      },
      "source": [
        "Now that we've removed outlier, let's analysis the various features and in the same time we'll also handle the missing value during analysis.\n",
        "\n",
        "- Numerical Analysis\n",
        "- Categorical Analysi\n",
        "\n",
        "# Numerical Analysis  <a class=\"anchor\" id=\"7-bullet\"></a>\n",
        "<hr>\n",
        "\n",
        "At first let's analysis the correlation of 'Survived' features with the other numerical features like 'SibSp', 'Parch', 'Age', 'Fare'."
      ]
    },
    {
      "cell_type": "code",
      "metadata": {
        "id": "eMT26kl6aest",
        "outputId": "6126edb6-8ad4-468d-9136-381523e66387",
        "colab": {
          "base_uri": "https://localhost:8080/",
          "height": 272
        }
      },
      "source": [
        "# Correlation matrix between numerical values (SibSp Parch Age and Fare values) and Survived \n",
        "corr_numeric = sns.heatmap(dataset[[\"Survived\",\"SibSp\",\"Parch\",\"Age\",\"Fare\"]].corr(),\n",
        "                           annot=True, fmt = \".2f\", cmap = \"summer\")"
      ],
      "execution_count": 19,
      "outputs": [
        {
          "output_type": "display_data",
          "data": {
            "image/png": "[encoded data removed]",
            "text/plain": [
              "<Figure size 432x288 with 2 Axes>"
            ]
          },
          "metadata": {
            "tags": [],
            "needs_background": "light"
          }
        }
      ]
    },
    {
      "cell_type": "markdown",
      "metadata": {
        "id": "rFbkaMQkaesu"
      },
      "source": [
        "Only Fare feature seems to have a significative correlation with the survival probability.\n",
        "\n",
        "But it doesn't make other features useless. Subpopulations in these features can be correlated with the survival. To estimate this, we need to explore in detail these features."
      ]
    },
    {
      "cell_type": "markdown",
      "metadata": {
        "id": "s553wzNXaesv"
      },
      "source": [
        "## Age\n",
        "\n",
        "Let's first look the age distribution among survived and not survived passengers."
      ]
    },
    {
      "cell_type": "code",
      "metadata": {
        "id": "3mbQT-GYaesv",
        "outputId": "2fe7f3f7-529e-425b-f71e-f022e63779b2",
        "colab": {
          "base_uri": "https://localhost:8080/",
          "height": 0
        }
      },
      "source": [
        "# Explore the Age vs Survived features\n",
        "age_survived = sns.FacetGrid(dataset, col='Survived')\n",
        "age_survived = age_survived.map(sns.distplot, \"Age\")"
      ],
      "execution_count": 20,
      "outputs": [
        {
          "output_type": "stream",
          "text": [
            "/usr/local/lib/python3.6/dist-packages/seaborn/distributions.py:2551: FutureWarning: `distplot` is a deprecated function and will be removed in a future version. Please adapt your code to use either `displot` (a figure-level function with similar flexibility) or `histplot` (an axes-level function for histograms).\n",
            "  warnings.warn(msg, FutureWarning)\n",
            "/usr/local/lib/python3.6/dist-packages/seaborn/distributions.py:2551: FutureWarning: `distplot` is a deprecated function and will be removed in a future version. Please adapt your code to use either `displot` (a figure-level function with similar flexibility) or `histplot` (an axes-level function for histograms).\n",
            "  warnings.warn(msg, FutureWarning)\n"
          ],
          "name": "stderr"
        },
        {
          "output_type": "display_data",
          "data": {
            "image/png": "[encoded data removed]",
            "text/plain": [
              "<Figure size 432x216 with 2 Axes>"
            ]
          },
          "metadata": {
            "tags": [],
            "needs_background": "light"
          }
        }
      ]
    },
    {
      "cell_type": "markdown",
      "metadata": {
        "id": "TjmHeJ-paesx"
      },
      "source": [
        "So, It's look like age distributions are not the same in the survived and not survived subpopulations. Indeed, there is a peak corresponding to young passengers, that have survived. We also see that passengers between 60-80 have less survived. So, even if \"Age\" is not correlated with \"Survived\", we can see that there is age categories of passengers that of have more or less chance to survive.\n",
        "\n",
        "It seems that very young passengers have more chance to survive. Let's look one for time."
      ]
    },
    {
      "cell_type": "code",
      "metadata": {
        "id": "nvWYWUa9aesx",
        "outputId": "39c18f3c-b98f-4330-e586-cd8fb755a7d7",
        "colab": {
          "base_uri": "https://localhost:8080/",
          "height": 0
        }
      },
      "source": [
        "fig = sns.FacetGrid(dataset, hue = 'Survived', aspect = 4)\n",
        "fig.map(sns.kdeplot, 'Age' , shade = True)\n",
        "fig.set(xlim = (0, dataset['Age'].max()))\n",
        "fig.add_legend()"
      ],
      "execution_count": 21,
      "outputs": [
        {
          "output_type": "execute_result",
          "data": {
            "text/plain": [
              "<seaborn.axisgrid.FacetGrid at 0x7efc1c8105c0>"
            ]
          },
          "metadata": {
            "tags": []
          },
          "execution_count": 21
        },
        {
          "output_type": "display_data",
          "data": {
            "image/png": "[encoded data removed]",
            "text/plain": [
              "<Figure size 925.55x216 with 1 Axes>"
            ]
          },
          "metadata": {
            "tags": [],
            "needs_background": "light"
          }
        }
      ]
    },
    {
      "cell_type": "markdown",
      "metadata": {
        "id": "0h7lJkxkaesz"
      },
      "source": [
        "Again we see that aged passengers between 65-80 have less survived.\n",
        "\n",
        "\n",
        "## Missing Age Value\n",
        "\n",
        "We have seen significantly missing values in **Age** coloumn. Missing Age value is a big issue, to address this problem, I've looked at the most correlated features with Age. Let's first try to find correlation between Age and Sex features."
      ]
    },
    {
      "cell_type": "code",
      "metadata": {
        "id": "0IXOOzXSaesz",
        "outputId": "5afa9e1b-8140-4d71-cb4b-8f5d22506062",
        "colab": {
          "base_uri": "https://localhost:8080/",
          "height": 0
        }
      },
      "source": [
        "# visualize this using box plot\n",
        "AS = sns.factorplot(y=\"Age\", x=\"Sex\", data = dataset, kind=\"box\")"
      ],
      "execution_count": 22,
      "outputs": [
        {
          "output_type": "stream",
          "text": [
            "/usr/local/lib/python3.6/dist-packages/seaborn/categorical.py:3704: UserWarning: The `factorplot` function has been renamed to `catplot`. The original name will be removed in a future release. Please update your code. Note that the default `kind` in `factorplot` (`'point'`) has changed `'strip'` in `catplot`.\n",
            "  warnings.warn(msg)\n"
          ],
          "name": "stderr"
        },
        {
          "output_type": "display_data",
          "data": {
            "image/png": "[encoded data removed]",
            "text/plain": [
              "<Figure size 360x360 with 1 Axes>"
            ]
          },
          "metadata": {
            "tags": [],
            "needs_background": "light"
          }
        }
      ]
    },
    {
      "cell_type": "markdown",
      "metadata": {
        "id": "Nf9gJmDoaes0"
      },
      "source": [
        "Age distribution seems to be almost same in Male and Female subpopulations, so Sex is not informative to predict Age. Let's explore `age` and `pclass` distribution."
      ]
    },
    {
      "cell_type": "code",
      "metadata": {
        "id": "L60K-m6Zaes1",
        "outputId": "bfb0fbc5-cb44-4fd8-8965-28b207d54336",
        "colab": {
          "base_uri": "https://localhost:8080/",
          "height": 0
        }
      },
      "source": [
        "facet = sns.FacetGrid(dataset, hue=\"Pclass\", aspect=4)\n",
        "facet.map(sns.kdeplot,'Age',shade= True)\n",
        "facet.set(xlim=(0, train['Age'].max()))\n",
        "facet.add_legend()\n",
        "plt.show()"
      ],
      "execution_count": 23,
      "outputs": [
        {
          "output_type": "display_data",
          "data": {
            "image/png": "[encoded data removed]",
            "text/plain": [
              "<Figure size 910.6x216 with 1 Axes>"
            ]
          },
          "metadata": {
            "tags": [],
            "needs_background": "light"
          }
        }
      ]
    },
    {
      "cell_type": "markdown",
      "metadata": {
        "id": "EM2hzQn-aes2"
      },
      "source": [
        "So, we see there're more young people from class 3. First class passenger seems more aged than second class and third class are following. But we can't get any information to predict age. But let's try an another approach to visualize with the same parameter."
      ]
    },
    {
      "cell_type": "code",
      "metadata": {
        "id": "aIGSudDcaes3",
        "outputId": "75e1efdd-796b-4bb5-a8ea-7b14d2657b7b",
        "colab": {
          "base_uri": "https://localhost:8080/",
          "height": 0
        }
      },
      "source": [
        "# using boxplot \n",
        "PA = sns.factorplot(data = dataset , x = 'Pclass' , y = 'Age', kind = 'box')"
      ],
      "execution_count": 24,
      "outputs": [
        {
          "output_type": "stream",
          "text": [
            "/usr/local/lib/python3.6/dist-packages/seaborn/categorical.py:3704: UserWarning: The `factorplot` function has been renamed to `catplot`. The original name will be removed in a future release. Please update your code. Note that the default `kind` in `factorplot` (`'point'`) has changed `'strip'` in `catplot`.\n",
            "  warnings.warn(msg)\n"
          ],
          "name": "stderr"
        },
        {
          "output_type": "display_data",
          "data": {
            "image/png": "[encoded data removed]",
            "text/plain": [
              "<Figure size 360x360 with 1 Axes>"
            ]
          },
          "metadata": {
            "tags": [],
            "needs_background": "light"
          }
        }
      ]
    },
    {
      "cell_type": "markdown",
      "metadata": {
        "id": "PheIb4_oaes5"
      },
      "source": [
        "Here, we can get some information, First class passengers are older than 2nd class passengers who are also older than 3rd class passengers. We can easily visaulize that roughly `37, 29, 24` respectively are the median values of each classes. The strategy can be used to fill Age with the median age of similar rows according to Pclass."
      ]
    },
    {
      "cell_type": "code",
      "metadata": {
        "id": "1H6PxfSQaes5"
      },
      "source": [
        "# a custom function for age imputation\n",
        "def AgeImpute(df):\n",
        "    Age = df[0]\n",
        "    Pclass = df[1]\n",
        "    \n",
        "    if pd.isnull(Age):\n",
        "        if Pclass == 1: return 37\n",
        "        elif Pclass == 2: return 29\n",
        "        else: return 24\n",
        "    else:\n",
        "        return Age\n",
        "\n",
        "# Age Impute\n",
        "dataset['Age'] = dataset[['Age' , 'Pclass']].apply(AgeImpute, axis = 1)"
      ],
      "execution_count": 25,
      "outputs": []
    },
    {
      "cell_type": "code",
      "metadata": {
        "id": "4zvxMfe8aes7",
        "outputId": "27247c9a-c598-485b-ff1f-be2e062a4238",
        "colab": {
          "base_uri": "https://localhost:8080/",
          "height": 0
        }
      },
      "source": [
        "# age featured imputed; no missing age records\n",
        "sns.heatmap(dataset.isnull(), yticklabels = False, cbar = False, cmap = 'summer')"
      ],
      "execution_count": 26,
      "outputs": [
        {
          "output_type": "execute_result",
          "data": {
            "text/plain": [
              "<matplotlib.axes._subplots.AxesSubplot at 0x7efc1c7faf28>"
            ]
          },
          "metadata": {
            "tags": []
          },
          "execution_count": 26
        },
        {
          "output_type": "display_data",
          "data": {
            "image/png": "[encoded data removed]",
            "text/plain": [
              "<Figure size 432x288 with 1 Axes>"
            ]
          },
          "metadata": {
            "tags": [],
            "needs_background": "light"
          }
        }
      ]
    },
    {
      "cell_type": "markdown",
      "metadata": {
        "id": "6RcC-wwOaes_"
      },
      "source": [
        "`Fare` feature missing some values. However, we will handle it later.\n",
        "\n",
        "## SibSP\n",
        "Now, let's look `Survived` and `SibSp` features in details"
      ]
    },
    {
      "cell_type": "code",
      "metadata": {
        "id": "bjH1wW_iaetA",
        "outputId": "72c6f49b-1d82-41dd-9917-e7dac65b0b73",
        "colab": {
          "base_uri": "https://localhost:8080/",
          "height": 0
        }
      },
      "source": [
        "# Explore SibSp feature vs Survived\n",
        "# We'll use factorplot to analysis\n",
        "Sib_Sur = sns.factorplot(x=\"SibSp\",y=\"Survived\",data=train,\n",
        "                   kind=\"bar\", size = 6 , palette = \"Blues\")\n",
        "\n",
        "Sib_Sur.despine(left=True)\n",
        "Sib_Sur = Sib_Sur.set_ylabels(\"survival probability\")"
      ],
      "execution_count": 27,
      "outputs": [
        {
          "output_type": "stream",
          "text": [
            "/usr/local/lib/python3.6/dist-packages/seaborn/categorical.py:3704: UserWarning: The `factorplot` function has been renamed to `catplot`. The original name will be removed in a future release. Please update your code. Note that the default `kind` in `factorplot` (`'point'`) has changed `'strip'` in `catplot`.\n",
            "  warnings.warn(msg)\n",
            "/usr/local/lib/python3.6/dist-packages/seaborn/categorical.py:3710: UserWarning: The `size` parameter has been renamed to `height`; please update your code.\n",
            "  warnings.warn(msg, UserWarning)\n"
          ],
          "name": "stderr"
        },
        {
          "output_type": "display_data",
          "data": {
            "image/png": "[encoded data removed]",
            "text/plain": [
              "<Figure size 432x432 with 1 Axes>"
            ]
          },
          "metadata": {
            "tags": [],
            "needs_background": "light"
          }
        }
      ]
    },
    {
      "cell_type": "markdown",
      "metadata": {
        "id": "L7w0sCcdaetC"
      },
      "source": [
        "It seems that passengers having a lot of siblings/spouses have less chance to survive.\n",
        "Single passengers (0 SibSP) or with two other persons (SibSP 1 or 2) have more chance to survive"
      ]
    },
    {
      "cell_type": "markdown",
      "metadata": {
        "id": "9iAw61qLaetC"
      },
      "source": [
        "## Parch\n",
        "Let's look `Survived` and `Parch` features in details"
      ]
    },
    {
      "cell_type": "code",
      "metadata": {
        "id": "Llfui7muaetC",
        "outputId": "fdf22fa6-b3cb-4ff5-d7be-1b5c801cdd11",
        "colab": {
          "base_uri": "https://localhost:8080/",
          "height": 0
        }
      },
      "source": [
        "# Explore Parch feature vs Survived\n",
        "# We'll use factorplot to analysis\n",
        "Sur_Par = sns.factorplot(x=\"Parch\",y=\"Survived\",data=train, \n",
        "                         kind=\"bar\", size = 6 , palette = \"GnBu_d\")\n",
        "\n",
        "Sur_Par.despine(left=True)\n",
        "Sur_Par = Sur_Par.set_ylabels(\"survival probability\")"
      ],
      "execution_count": 28,
      "outputs": [
        {
          "output_type": "stream",
          "text": [
            "/usr/local/lib/python3.6/dist-packages/seaborn/categorical.py:3704: UserWarning: The `factorplot` function has been renamed to `catplot`. The original name will be removed in a future release. Please update your code. Note that the default `kind` in `factorplot` (`'point'`) has changed `'strip'` in `catplot`.\n",
            "  warnings.warn(msg)\n",
            "/usr/local/lib/python3.6/dist-packages/seaborn/categorical.py:3710: UserWarning: The `size` parameter has been renamed to `height`; please update your code.\n",
            "  warnings.warn(msg, UserWarning)\n"
          ],
          "name": "stderr"
        },
        {
          "output_type": "display_data",
          "data": {
            "image/png": "[encoded data removed]",
            "text/plain": [
              "<Figure size 432x432 with 1 Axes>"
            ]
          },
          "metadata": {
            "tags": [],
            "needs_background": "light"
          }
        }
      ]
    },
    {
      "cell_type": "markdown",
      "metadata": {
        "id": "cTZzN_8VaetE"
      },
      "source": [
        "Small families have more chance to survive, more than single."
      ]
    },
    {
      "cell_type": "markdown",
      "metadata": {
        "id": "465L6-3DaetE"
      },
      "source": [
        "## Fare\n",
        "Let's look `Survived` and `Fare` features in details. We have seen that, Fare feature also mssing some values. Let's handle it first."
      ]
    },
    {
      "cell_type": "code",
      "metadata": {
        "id": "W5oYEJBZaetE",
        "outputId": "e0e1062b-c167-4183-98fd-60c5e0836e0b",
        "colab": {
          "base_uri": "https://localhost:8080/",
          "height": 0
        }
      },
      "source": [
        "dataset[\"Fare\"].isnull().sum()"
      ],
      "execution_count": 29,
      "outputs": [
        {
          "output_type": "execute_result",
          "data": {
            "text/plain": [
              "1"
            ]
          },
          "metadata": {
            "tags": []
          },
          "execution_count": 29
        }
      ]
    },
    {
      "cell_type": "markdown",
      "metadata": {
        "id": "KC6KbrZjaetG"
      },
      "source": [
        "Since we have one missing value , I liket to fill it with the median value."
      ]
    },
    {
      "cell_type": "code",
      "metadata": {
        "id": "SgYq4-6WaetG"
      },
      "source": [
        "dataset[\"Fare\"] = dataset[\"Fare\"].fillna(dataset[\"Fare\"].median())"
      ],
      "execution_count": 30,
      "outputs": []
    },
    {
      "cell_type": "markdown",
      "metadata": {
        "id": "xDtiuxrUaetI"
      },
      "source": [
        "# Categorical values  <a class=\"anchor\" id=\"8-bullet\"></a>\n",
        "<hr>\n",
        "\n",
        "We can turn categorical values into numerical values. This is simply needed because of feeding the traing data to model. We can use feature mapping or create dummy variables.\n",
        "\n",
        "## sex\n",
        "Let's take a quick look of values in this features."
      ]
    },
    {
      "cell_type": "code",
      "metadata": {
        "id": "RNhCFzbFaetI",
        "outputId": "a45f302d-7797-462b-dbfe-c7929b79df24",
        "colab": {
          "base_uri": "https://localhost:8080/",
          "height": 238
        }
      },
      "source": [
        "print(dataset['Sex'].head()) # top 5\n",
        "print(' ')\n",
        "print(dataset['Sex'].tail()) # last 5"
      ],
      "execution_count": 31,
      "outputs": [
        {
          "output_type": "stream",
          "text": [
            "0      male\n",
            "1    female\n",
            "2    female\n",
            "3    female\n",
            "4      male\n",
            "Name: Sex, dtype: object\n",
            " \n",
            "1294      male\n",
            "1295    female\n",
            "1296      male\n",
            "1297      male\n",
            "1298      male\n",
            "Name: Sex, dtype: object\n"
          ],
          "name": "stdout"
        }
      ]
    },
    {
      "cell_type": "markdown",
      "metadata": {
        "id": "Wst6fxqhaetK"
      },
      "source": [
        "<hr>\n",
        "Model can not take such values. We need to map the `sex` column to numeric values, so that our model can digest."
      ]
    },
    {
      "cell_type": "code",
      "metadata": {
        "id": "nd6mpYFVaetK"
      },
      "source": [
        "# convert Sex into categorical value 0 for male and 1 for female\n",
        "sex = pd.get_dummies(dataset['Sex'], drop_first = True)\n",
        "dataset = pd.concat([dataset,sex], axis = 1)\n",
        "\n",
        "# After now, we really don't need to Sex features, we can drop it.\n",
        "dataset.drop(['Sex'] , axis = 1 , inplace = True)"
      ],
      "execution_count": 32,
      "outputs": []
    },
    {
      "cell_type": "markdown",
      "metadata": {
        "id": "ZkbGfOXTaetM"
      },
      "source": [
        "Let see how much people `survived` based on their `gender`. We can guess though, `Female` passenger survived more than `Male`, this is just assumption though. In the movie, we heard that **Women and Children First**."
      ]
    },
    {
      "cell_type": "code",
      "metadata": {
        "id": "9vT5Yj6kaetM",
        "outputId": "e7d4e719-3223-4fa5-e88d-ec3f46423186",
        "colab": {
          "base_uri": "https://localhost:8080/",
          "height": 302
        }
      },
      "source": [
        "# using countplot to estimate amount\n",
        "sns.countplot(data = train , x = 'Survived' , hue = 'Sex', palette = 'GnBu_d')"
      ],
      "execution_count": 33,
      "outputs": [
        {
          "output_type": "execute_result",
          "data": {
            "text/plain": [
              "<matplotlib.axes._subplots.AxesSubplot at 0x7efc1c4ad5c0>"
            ]
          },
          "metadata": {
            "tags": []
          },
          "execution_count": 33
        },
        {
          "output_type": "display_data",
          "data": {
            "image/png": "[encoded data removed]",
            "text/plain": [
              "<Figure size 432x288 with 1 Axes>"
            ]
          },
          "metadata": {
            "tags": [],
            "needs_background": "light"
          }
        }
      ]
    },
    {
      "cell_type": "code",
      "metadata": {
        "id": "ORFUqcCdaetO",
        "outputId": "cde0d733-8c2f-4d81-b739-0a0d380d8155",
        "colab": {
          "base_uri": "https://localhost:8080/",
          "height": 142
        }
      },
      "source": [
        "# let's see the percentage\n",
        "train[[\"Sex\",\"Survived\"]].groupby('Sex').mean()"
      ],
      "execution_count": 34,
      "outputs": [
        {
          "output_type": "execute_result",
          "data": {
            "text/html": [
              "<div>\n",
              "<style scoped>\n",
              "    .dataframe tbody tr th:only-of-type {\n",
              "        vertical-align: middle;\n",
              "    }\n",
              "\n",
              "    .dataframe tbody tr th {\n",
              "        vertical-align: top;\n",
              "    }\n",
              "\n",
              "    .dataframe thead th {\n",
              "        text-align: right;\n",
              "    }\n",
              "</style>\n",
              "<table border=\"1\" class=\"dataframe\">\n",
              "  <thead>\n",
              "    <tr style=\"text-align: right;\">\n",
              "      <th></th>\n",
              "      <th>Survived</th>\n",
              "    </tr>\n",
              "    <tr>\n",
              "      <th>Sex</th>\n",
              "      <th></th>\n",
              "    </tr>\n",
              "  </thead>\n",
              "  <tbody>\n",
              "    <tr>\n",
              "      <th>female</th>\n",
              "      <td>0.747573</td>\n",
              "    </tr>\n",
              "    <tr>\n",
              "      <th>male</th>\n",
              "      <td>0.190559</td>\n",
              "    </tr>\n",
              "  </tbody>\n",
              "</table>\n",
              "</div>"
            ],
            "text/plain": [
              "        Survived\n",
              "Sex             \n",
              "female  0.747573\n",
              "male    0.190559"
            ]
          },
          "metadata": {
            "tags": []
          },
          "execution_count": 34
        }
      ]
    },
    {
      "cell_type": "markdown",
      "metadata": {
        "id": "yJ24QVM2aetQ"
      },
      "source": [
        "It is clearly obvious that Male have less chance to survive than Female. This is heavily an important feature for our prediction task."
      ]
    },
    {
      "cell_type": "markdown",
      "metadata": {
        "id": "jpwfumM1aetQ"
      },
      "source": [
        "## Pclass\n",
        "Let's explore passenger calsses feature with age feature. From this we can know, how much children, young and aged people were in different passenger class."
      ]
    },
    {
      "cell_type": "code",
      "metadata": {
        "id": "YDU553pmaetR",
        "outputId": "59f12028-d175-4cc3-b14f-bbb44c4b48f0",
        "colab": {
          "base_uri": "https://localhost:8080/",
          "height": 0
        }
      },
      "source": [
        "facet = sns.FacetGrid(train, hue=\"Pclass\",aspect=4)\n",
        "facet.map(sns.kdeplot,'Age',shade= True)\n",
        "facet.set(xlim=(0, train['Age'].max()))\n",
        "facet.add_legend()\n",
        "plt.show()"
      ],
      "execution_count": 35,
      "outputs": [
        {
          "output_type": "display_data",
          "data": {
            "image/png": "[encoded data removed]",
            "text/plain": [
              "<Figure size 910.6x216 with 1 Axes>"
            ]
          },
          "metadata": {
            "tags": [],
            "needs_background": "light"
          }
        }
      ]
    },
    {
      "cell_type": "markdown",
      "metadata": {
        "id": "926dy0euaetS"
      },
      "source": [
        "So, we see there're more young people from class 3. And more aged passenger were in first class, and that indicate that they're rich. So, most of the young people were in class three.\n",
        "\n",
        "However, let's explore the `Pclass` vs `Survived` using `Sex` feature. This will give more information about the survival probability of each classes according to their gender."
      ]
    },
    {
      "cell_type": "code",
      "metadata": {
        "id": "sAVGas-zaetT",
        "outputId": "8bb4c3f7-e367-4425-d9eb-d4b46eadb827",
        "colab": {
          "base_uri": "https://localhost:8080/",
          "height": 0
        }
      },
      "source": [
        "Survived_Pcalss = sns.factorplot(x=\"Pclass\", y=\"Survived\", \n",
        "                                 hue=\"Sex\", data=train,size=6, \n",
        "                                 kind=\"bar\", palette=\"BuGn_r\")\n",
        "Survived_Pcalss.despine(left=True)\n",
        "Survived_Pcalss = Survived_Pcalss.set_ylabels(\"survival probability\")"
      ],
      "execution_count": 36,
      "outputs": [
        {
          "output_type": "stream",
          "text": [
            "/usr/local/lib/python3.6/dist-packages/seaborn/categorical.py:3704: UserWarning: The `factorplot` function has been renamed to `catplot`. The original name will be removed in a future release. Please update your code. Note that the default `kind` in `factorplot` (`'point'`) has changed `'strip'` in `catplot`.\n",
            "  warnings.warn(msg)\n",
            "/usr/local/lib/python3.6/dist-packages/seaborn/categorical.py:3710: UserWarning: The `size` parameter has been renamed to `height`; please update your code.\n",
            "  warnings.warn(msg, UserWarning)\n"
          ],
          "name": "stderr"
        },
        {
          "output_type": "display_data",
          "data": {
            "image/png": "[encoded data removed]",
            "text/plain": [
              "<Figure size 509.975x432 with 1 Axes>"
            ]
          },
          "metadata": {
            "tags": [],
            "needs_background": "light"
          }
        }
      ]
    },
    {
      "cell_type": "markdown",
      "metadata": {
        "id": "06QUn1dDaetU"
      },
      "source": [
        "The passenger survival is not the same in the all classes. First class passengers have more chance to survive than second class and third class passengers. And Female survived more than Male in every classes.\n",
        "\n",
        "## Embarked\n",
        "<hr>\n",
        "Port of Embarkation , C = Cherbourg, Q = Queenstown, S = Southampton. Categorical feature that should be encoded. We can use feature mapping or make dummy vairables for it.\n",
        "\n",
        "However, let's explore it combining `Pclass` and `Survivied` features. So that, we can get idea about the classes of passengers and also the concern embarked."
      ]
    },
    {
      "cell_type": "code",
      "metadata": {
        "id": "XeryuCPvaetU",
        "outputId": "9b85221f-e8f7-4af3-8836-83c620a69f7d",
        "colab": {
          "base_uri": "https://localhost:8080/",
          "height": 0
        }
      },
      "source": [
        "# 'Embarked' vs 'Survived'\n",
        "sns.barplot(dataset['Embarked'], dataset['Survived']);"
      ],
      "execution_count": 37,
      "outputs": [
        {
          "output_type": "stream",
          "text": [
            "/usr/local/lib/python3.6/dist-packages/seaborn/_decorators.py:43: FutureWarning: Pass the following variables as keyword args: x, y. From version 0.12, the only valid positional argument will be `data`, and passing other arguments without an explicit keyword will result in an error or misinterpretation.\n",
            "  FutureWarning\n"
          ],
          "name": "stderr"
        },
        {
          "output_type": "display_data",
          "data": {
            "image/png": "[encoded data removed]",
            "text/plain": [
              "<Figure size 432x288 with 1 Axes>"
            ]
          },
          "metadata": {
            "tags": [],
            "needs_background": "light"
          }
        }
      ]
    },
    {
      "cell_type": "markdown",
      "metadata": {
        "id": "5t5inTOeaetW"
      },
      "source": [
        "Looks like, coming from Cherbourg people have more chance to survive. But why? That's weird. Let's compare this feature with other variables."
      ]
    },
    {
      "cell_type": "code",
      "metadata": {
        "id": "W39ZEFmDaetX",
        "outputId": "b527172a-faf1-4a78-dce7-eb30da0b58b4",
        "colab": {
          "base_uri": "https://localhost:8080/",
          "height": 0
        }
      },
      "source": [
        "# Count\n",
        "print(dataset.groupby(['Embarked'])['PassengerId'].count())\n",
        "\n",
        "# Compare with other variables\n",
        "dataset.groupby(['Embarked']).mean()"
      ],
      "execution_count": 38,
      "outputs": [
        {
          "output_type": "stream",
          "text": [
            "Embarked\n",
            "C    270\n",
            "Q    123\n",
            "S    904\n",
            "Name: PassengerId, dtype: int64\n"
          ],
          "name": "stdout"
        },
        {
          "output_type": "execute_result",
          "data": {
            "text/html": [
              "<div>\n",
              "<style scoped>\n",
              "    .dataframe tbody tr th:only-of-type {\n",
              "        vertical-align: middle;\n",
              "    }\n",
              "\n",
              "    .dataframe tbody tr th {\n",
              "        vertical-align: top;\n",
              "    }\n",
              "\n",
              "    .dataframe thead th {\n",
              "        text-align: right;\n",
              "    }\n",
              "</style>\n",
              "<table border=\"1\" class=\"dataframe\">\n",
              "  <thead>\n",
              "    <tr style=\"text-align: right;\">\n",
              "      <th></th>\n",
              "      <th>PassengerId</th>\n",
              "      <th>Survived</th>\n",
              "      <th>Pclass</th>\n",
              "      <th>Age</th>\n",
              "      <th>SibSp</th>\n",
              "      <th>Parch</th>\n",
              "      <th>Fare</th>\n",
              "      <th>male</th>\n",
              "    </tr>\n",
              "    <tr>\n",
              "      <th>Embarked</th>\n",
              "      <th></th>\n",
              "      <th></th>\n",
              "      <th></th>\n",
              "      <th></th>\n",
              "      <th></th>\n",
              "      <th></th>\n",
              "      <th></th>\n",
              "      <th></th>\n",
              "    </tr>\n",
              "  </thead>\n",
              "  <tbody>\n",
              "    <tr>\n",
              "      <th>C</th>\n",
              "      <td>690.655556</td>\n",
              "      <td>0.553571</td>\n",
              "      <td>1.851852</td>\n",
              "      <td>31.242296</td>\n",
              "      <td>0.400000</td>\n",
              "      <td>0.370370</td>\n",
              "      <td>62.336267</td>\n",
              "      <td>0.581481</td>\n",
              "    </tr>\n",
              "    <tr>\n",
              "      <th>Q</th>\n",
              "      <td>668.593496</td>\n",
              "      <td>0.389610</td>\n",
              "      <td>2.894309</td>\n",
              "      <td>25.963415</td>\n",
              "      <td>0.341463</td>\n",
              "      <td>0.113821</td>\n",
              "      <td>12.409012</td>\n",
              "      <td>0.512195</td>\n",
              "    </tr>\n",
              "    <tr>\n",
              "      <th>S</th>\n",
              "      <td>645.971239</td>\n",
              "      <td>0.339117</td>\n",
              "      <td>2.347345</td>\n",
              "      <td>28.973175</td>\n",
              "      <td>0.484513</td>\n",
              "      <td>0.409292</td>\n",
              "      <td>26.296450</td>\n",
              "      <td>0.683628</td>\n",
              "    </tr>\n",
              "  </tbody>\n",
              "</table>\n",
              "</div>"
            ],
            "text/plain": [
              "          PassengerId  Survived    Pclass  ...     Parch       Fare      male\n",
              "Embarked                                   ...                               \n",
              "C          690.655556  0.553571  1.851852  ...  0.370370  62.336267  0.581481\n",
              "Q          668.593496  0.389610  2.894309  ...  0.113821  12.409012  0.512195\n",
              "S          645.971239  0.339117  2.347345  ...  0.409292  26.296450  0.683628\n",
              "\n",
              "[3 rows x 8 columns]"
            ]
          },
          "metadata": {
            "tags": []
          },
          "execution_count": 38
        }
      ]
    },
    {
      "cell_type": "markdown",
      "metadata": {
        "id": "yQFqB5wLaetZ"
      },
      "source": [
        "Oh, C passenger have paid more and travelling in a better class than people embarking on Q and S. Amount of passenger from S is larger than others. But survival probability of C have more than others. \n",
        "\n",
        "As we've seen earlier that Embarked feature also has some missing values, so we can fill them with the most fequent value of Embarked which is S (almost 904)."
      ]
    },
    {
      "cell_type": "code",
      "metadata": {
        "id": "g9MZjD5gaeta",
        "outputId": "dd952ed5-93cd-4fb0-a209-555b67cd22bd",
        "colab": {
          "base_uri": "https://localhost:8080/",
          "height": 0
        }
      },
      "source": [
        "# count missing values\n",
        "print(dataset[\"Embarked\"].isnull().sum())\n",
        "\n",
        "# Fill Embarked nan values of dataset set with 'S' most frequent value\n",
        "dataset[\"Embarked\"] = dataset[\"Embarked\"].fillna(\"S\")"
      ],
      "execution_count": 39,
      "outputs": [
        {
          "output_type": "stream",
          "text": [
            "2\n"
          ],
          "name": "stdout"
        }
      ]
    },
    {
      "cell_type": "code",
      "metadata": {
        "id": "CBr82n0Jaetc",
        "outputId": "d01d7b25-39ba-4d30-ed04-70f786e91119",
        "colab": {
          "base_uri": "https://localhost:8080/",
          "height": 0
        }
      },
      "source": [
        "# let's visualize it to confirm\n",
        "sns.heatmap(dataset.isnull(), yticklabels = False, \n",
        "            cbar = False, cmap = 'summer')"
      ],
      "execution_count": 40,
      "outputs": [
        {
          "output_type": "execute_result",
          "data": {
            "text/plain": [
              "<matplotlib.axes._subplots.AxesSubplot at 0x7efc1c2b2898>"
            ]
          },
          "metadata": {
            "tags": []
          },
          "execution_count": 40
        },
        {
          "output_type": "display_data",
          "data": {
            "image/png": "[encoded data removed]",
            "text/plain": [
              "<Figure size 432x288 with 1 Axes>"
            ]
          },
          "metadata": {
            "tags": [],
            "needs_background": "light"
          }
        }
      ]
    },
    {
      "cell_type": "markdown",
      "metadata": {
        "id": "ZLZulyQGaete"
      },
      "source": [
        "And there it goes. Now, there's no missing values in Embarked feature. Let's explore this feature a little bit more. We can viz the survival probability with the amount of classes passenger embarked on different port."
      ]
    },
    {
      "cell_type": "code",
      "metadata": {
        "id": "sh17Jrj_aete",
        "outputId": "7512e5d6-9404-413e-d0a9-94dbf97410d0",
        "colab": {
          "base_uri": "https://localhost:8080/",
          "height": 0
        }
      },
      "source": [
        "# Counting passenger based on Pclass and Embarked \n",
        "Embarked_Pc = sns.factorplot(\"Pclass\", col=\"Embarked\",  data=dataset,\n",
        "                   size=5, kind=\"count\", palette=\"muted\", hue = 'Survived')\n",
        "\n",
        "Embarked_Pc.despine(left=True)\n",
        "Embarked_Pc = Embarked_Pc.set_ylabels(\"Count\")"
      ],
      "execution_count": 41,
      "outputs": [
        {
          "output_type": "stream",
          "text": [
            "/usr/local/lib/python3.6/dist-packages/seaborn/categorical.py:3704: UserWarning: The `factorplot` function has been renamed to `catplot`. The original name will be removed in a future release. Please update your code. Note that the default `kind` in `factorplot` (`'point'`) has changed `'strip'` in `catplot`.\n",
            "  warnings.warn(msg)\n",
            "/usr/local/lib/python3.6/dist-packages/seaborn/categorical.py:3710: UserWarning: The `size` parameter has been renamed to `height`; please update your code.\n",
            "  warnings.warn(msg, UserWarning)\n",
            "/usr/local/lib/python3.6/dist-packages/seaborn/_decorators.py:43: FutureWarning: Pass the following variable as a keyword arg: x. From version 0.12, the only valid positional argument will be `data`, and passing other arguments without an explicit keyword will result in an error or misinterpretation.\n",
            "  FutureWarning\n"
          ],
          "name": "stderr"
        },
        {
          "output_type": "display_data",
          "data": {
            "image/png": "[encoded data removed]",
            "text/plain": [
              "<Figure size 1141.55x360 with 3 Axes>"
            ]
          },
          "metadata": {
            "tags": [],
            "needs_background": "light"
          }
        }
      ]
    },
    {
      "cell_type": "markdown",
      "metadata": {
        "id": "y6XQ_nm_aetg"
      },
      "source": [
        "Indeed, the third class is the most frequent for passenger coming from Southampton (S) and Queenstown (Q), and but Cherbourg passengers are mostly in first class. From this, we can also get idea about the economic condition of these region on that time.\n",
        "\n",
        "However, We need to map the `Embarked` column to numeric values, so that our model can digest."
      ]
    },
    {
      "cell_type": "code",
      "metadata": {
        "id": "okqldfI_aetg"
      },
      "source": [
        "# create dummy variable\n",
        "embarked = pd.get_dummies(dataset['Embarked'], drop_first = True)\n",
        "dataset = pd.concat([dataset,embarked], axis = 1)\n",
        "\n",
        "# after now, we don't need Embarked coloumn anymore, so we can drop it.\n",
        "dataset.drop(['Embarked'] , axis = 1 , inplace = True)"
      ],
      "execution_count": 42,
      "outputs": []
    },
    {
      "cell_type": "markdown",
      "metadata": {
        "id": "muMLx16daeti"
      },
      "source": [
        "# Commitment for Feature Analysis\n",
        "So far, we've seen various subpopulation components of each features and fill the gap of missing values. We've done many visualization of each components and tried to find some insight of them. Though we can dive into more deeper but I like to end this here and try to focus on feature engineering. \n",
        "\n",
        "We saw that, we've many messy features like `Name`, `Ticket` and `Cabin`. We can do feature engineering to each of them and find out some meaningfull insight. But, I like to work on only `Name` variables. `Ticket` is, I think not too much important for prediction task and again almost 77% data missing in `Cabin` variables.\n",
        "\n",
        "However, let's have a quick look over our datasets."
      ]
    },
    {
      "cell_type": "code",
      "metadata": {
        "id": "nea2HONIaetj",
        "outputId": "29fdb38d-e3d1-427e-f0ea-28bc3f2d7dc3",
        "colab": {
          "base_uri": "https://localhost:8080/",
          "height": 204
        }
      },
      "source": [
        "dataset.head()"
      ],
      "execution_count": 43,
      "outputs": [
        {
          "output_type": "execute_result",
          "data": {
            "text/html": [
              "<div>\n",
              "<style scoped>\n",
              "    .dataframe tbody tr th:only-of-type {\n",
              "        vertical-align: middle;\n",
              "    }\n",
              "\n",
              "    .dataframe tbody tr th {\n",
              "        vertical-align: top;\n",
              "    }\n",
              "\n",
              "    .dataframe thead th {\n",
              "        text-align: right;\n",
              "    }\n",
              "</style>\n",
              "<table border=\"1\" class=\"dataframe\">\n",
              "  <thead>\n",
              "    <tr style=\"text-align: right;\">\n",
              "      <th></th>\n",
              "      <th>PassengerId</th>\n",
              "      <th>Survived</th>\n",
              "      <th>Pclass</th>\n",
              "      <th>Name</th>\n",
              "      <th>Age</th>\n",
              "      <th>SibSp</th>\n",
              "      <th>Parch</th>\n",
              "      <th>Ticket</th>\n",
              "      <th>Fare</th>\n",
              "      <th>Cabin</th>\n",
              "      <th>male</th>\n",
              "      <th>Q</th>\n",
              "      <th>S</th>\n",
              "    </tr>\n",
              "  </thead>\n",
              "  <tbody>\n",
              "    <tr>\n",
              "      <th>0</th>\n",
              "      <td>1</td>\n",
              "      <td>0.0</td>\n",
              "      <td>3</td>\n",
              "      <td>Braund, Mr. Owen Harris</td>\n",
              "      <td>22.0</td>\n",
              "      <td>1</td>\n",
              "      <td>0</td>\n",
              "      <td>A/5 21171</td>\n",
              "      <td>7.2500</td>\n",
              "      <td>NaN</td>\n",
              "      <td>1</td>\n",
              "      <td>0</td>\n",
              "      <td>1</td>\n",
              "    </tr>\n",
              "    <tr>\n",
              "      <th>1</th>\n",
              "      <td>2</td>\n",
              "      <td>1.0</td>\n",
              "      <td>1</td>\n",
              "      <td>Cumings, Mrs. John Bradley (Florence Briggs Th...</td>\n",
              "      <td>38.0</td>\n",
              "      <td>1</td>\n",
              "      <td>0</td>\n",
              "      <td>PC 17599</td>\n",
              "      <td>71.2833</td>\n",
              "      <td>C85</td>\n",
              "      <td>0</td>\n",
              "      <td>0</td>\n",
              "      <td>0</td>\n",
              "    </tr>\n",
              "    <tr>\n",
              "      <th>2</th>\n",
              "      <td>3</td>\n",
              "      <td>1.0</td>\n",
              "      <td>3</td>\n",
              "      <td>Heikkinen, Miss. Laina</td>\n",
              "      <td>26.0</td>\n",
              "      <td>0</td>\n",
              "      <td>0</td>\n",
              "      <td>STON/O2. 3101282</td>\n",
              "      <td>7.9250</td>\n",
              "      <td>NaN</td>\n",
              "      <td>0</td>\n",
              "      <td>0</td>\n",
              "      <td>1</td>\n",
              "    </tr>\n",
              "    <tr>\n",
              "      <th>3</th>\n",
              "      <td>4</td>\n",
              "      <td>1.0</td>\n",
              "      <td>1</td>\n",
              "      <td>Futrelle, Mrs. Jacques Heath (Lily May Peel)</td>\n",
              "      <td>35.0</td>\n",
              "      <td>1</td>\n",
              "      <td>0</td>\n",
              "      <td>113803</td>\n",
              "      <td>53.1000</td>\n",
              "      <td>C123</td>\n",
              "      <td>0</td>\n",
              "      <td>0</td>\n",
              "      <td>1</td>\n",
              "    </tr>\n",
              "    <tr>\n",
              "      <th>4</th>\n",
              "      <td>5</td>\n",
              "      <td>0.0</td>\n",
              "      <td>3</td>\n",
              "      <td>Allen, Mr. William Henry</td>\n",
              "      <td>35.0</td>\n",
              "      <td>0</td>\n",
              "      <td>0</td>\n",
              "      <td>373450</td>\n",
              "      <td>8.0500</td>\n",
              "      <td>NaN</td>\n",
              "      <td>1</td>\n",
              "      <td>0</td>\n",
              "      <td>1</td>\n",
              "    </tr>\n",
              "  </tbody>\n",
              "</table>\n",
              "</div>"
            ],
            "text/plain": [
              "   PassengerId  Survived  Pclass  ... male  Q  S\n",
              "0            1       0.0       3  ...    1  0  1\n",
              "1            2       1.0       1  ...    0  0  0\n",
              "2            3       1.0       3  ...    0  0  1\n",
              "3            4       1.0       1  ...    0  0  1\n",
              "4            5       0.0       3  ...    1  0  1\n",
              "\n",
              "[5 rows x 13 columns]"
            ]
          },
          "metadata": {
            "tags": []
          },
          "execution_count": 43
        }
      ]
    },
    {
      "cell_type": "markdown",
      "metadata": {
        "id": "eToz3IgFaetk"
      },
      "source": [
        "# Feature Engineering <a class=\"anchor\" id=\"9-bullet\"></a>\n",
        "\n",
        "[Feature engineering](https://en.wikipedia.org/wiki/Feature_engineering) is an informal topic, but it is considered essential in applied machine learning. Feature engineering is the process of using domain knowledge of the data to create features that make machine learning algorithms work. \n",
        "\n",
        "Some resources to get more depth on it -\n",
        "\n",
        "- [Data Preprocessing and Feature Exploration](https://www.youtube.com/watch?v=V0u6bxQOUJ8&t=1384s)\n",
        "- [Makes a Good Feature](https://www.youtube.com/watch?v=N9fDIAflCMY)\n",
        "- [Feature Engineering](https://www.kdnuggets.com/tag/feature-engineering)\n",
        "- [Automated Feature Engineering](https://towardsdatascience.com/automated-feature-engineering-in-python-99baf11cc219)\n",
        "\n",
        "Feature engineering is the art of converting raw data into useful features. There are several feature engineering techniques that you can apply. Some techniques are -\n",
        "\n",
        "- Box-Cox transformations\n",
        "- Polynomials generation through non-linear expansions\n",
        "\n",
        "But we don't wanna be too serious on this rather than simply apply feature engineering approaches to get usefull information.\n",
        "\n",
        "<hr>\n",
        "\n",
        "## Name \n",
        "\n",
        "We can assume that people's title influences how they are treated. In our case, we have several titles (like Mr, Mrs, Miss, Master etc ), but only some of them are shared by a significant number of people. Accordingly, it would be interesting if we could group some of the titles and simplify our analysis.\n",
        "\n",
        "Let's analyse the 'Name' and see if we can find a sensible way to group them. Then, we test our new groups and, if it works in an acceptable way, we keep it. For now, optimization will not be a goal. The focus is on getting something that can improve our current situation.\n"
      ]
    },
    {
      "cell_type": "code",
      "metadata": {
        "id": "ZMYKr6dAaetk",
        "outputId": "33ad7f32-7e78-4878-cb91-3d8d210a6a1a",
        "colab": {
          "base_uri": "https://localhost:8080/",
          "height": 204
        }
      },
      "source": [
        "dataset['Name'].head(10)"
      ],
      "execution_count": 44,
      "outputs": [
        {
          "output_type": "execute_result",
          "data": {
            "text/plain": [
              "0                              Braund, Mr. Owen Harris\n",
              "1    Cumings, Mrs. John Bradley (Florence Briggs Th...\n",
              "2                               Heikkinen, Miss. Laina\n",
              "3         Futrelle, Mrs. Jacques Heath (Lily May Peel)\n",
              "4                             Allen, Mr. William Henry\n",
              "5                                     Moran, Mr. James\n",
              "6                              McCarthy, Mr. Timothy J\n",
              "7                       Palsson, Master. Gosta Leonard\n",
              "8    Johnson, Mrs. Oscar W (Elisabeth Vilhelmina Berg)\n",
              "9                  Nasser, Mrs. Nicholas (Adele Achem)\n",
              "Name: Name, dtype: object"
            ]
          },
          "metadata": {
            "tags": []
          },
          "execution_count": 44
        }
      ]
    },
    {
      "cell_type": "code",
      "metadata": {
        "id": "nenPspO2aetl",
        "outputId": "6143a111-fb29-476d-80cc-96a9c54d6ae3",
        "colab": {
          "base_uri": "https://localhost:8080/",
          "height": 340
        }
      },
      "source": [
        "# Get Title from Name\n",
        "dataset_title = [i.split(\",\")[1].split(\".\")[0].strip() for i in dataset[\"Name\"]]\n",
        "\n",
        "# add dataset_title to the main dataset named 'Title'\n",
        "dataset[\"Title\"] = pd.Series(dataset_title)\n",
        "\n",
        "# count\n",
        "dataset[\"Title\"].value_counts()"
      ],
      "execution_count": 45,
      "outputs": [
        {
          "output_type": "execute_result",
          "data": {
            "text/plain": [
              "Mr              753\n",
              "Miss            255\n",
              "Mrs             197\n",
              "Master           60\n",
              "Rev               8\n",
              "Dr                8\n",
              "Col               4\n",
              "Major             2\n",
              "Mlle              2\n",
              "Ms                2\n",
              "the Countess      1\n",
              "Capt              1\n",
              "Mme               1\n",
              "Sir               1\n",
              "Dona              1\n",
              "Don               1\n",
              "Jonkheer          1\n",
              "Lady              1\n",
              "Name: Title, dtype: int64"
            ]
          },
          "metadata": {
            "tags": []
          },
          "execution_count": 45
        }
      ]
    },
    {
      "cell_type": "code",
      "metadata": {
        "id": "eZ0TPrRSaetn",
        "outputId": "f9628ea0-ae7a-4314-8449-011fdbc81478",
        "colab": {
          "base_uri": "https://localhost:8080/",
          "height": 356
        }
      },
      "source": [
        "# Plot bar plot (titles and Age)\n",
        "plt.figure(figsize=(18,5))\n",
        "sns.barplot(x=dataset['Title'], y = dataset['Age'])"
      ],
      "execution_count": 46,
      "outputs": [
        {
          "output_type": "execute_result",
          "data": {
            "text/plain": [
              "<matplotlib.axes._subplots.AxesSubplot at 0x7efc1c1e9048>"
            ]
          },
          "metadata": {
            "tags": []
          },
          "execution_count": 46
        },
        {
          "output_type": "display_data",
          "data": {
            "image/png": "[encoded data removed]",
            "text/plain": [
              "<Figure size 1296x360 with 1 Axes>"
            ]
          },
          "metadata": {
            "tags": [],
            "needs_background": "light"
          }
        }
      ]
    },
    {
      "cell_type": "code",
      "metadata": {
        "id": "bM6HnZ1Daetp",
        "outputId": "a62a7add-88a3-4af4-9aa0-a3484181e1c5",
        "colab": {
          "base_uri": "https://localhost:8080/",
          "height": 357
        }
      },
      "source": [
        "# Means per title\n",
        "print(dataset.groupby('Title')['Age'].mean())"
      ],
      "execution_count": 47,
      "outputs": [
        {
          "output_type": "stream",
          "text": [
            "Title\n",
            "Capt            70.000000\n",
            "Col             54.000000\n",
            "Don             40.000000\n",
            "Dona            39.000000\n",
            "Dr              42.750000\n",
            "Jonkheer        38.000000\n",
            "Lady            48.000000\n",
            "Major           48.500000\n",
            "Master           7.643000\n",
            "Miss            22.261137\n",
            "Mlle            24.000000\n",
            "Mme             24.000000\n",
            "Mr              30.926295\n",
            "Mrs             35.898477\n",
            "Ms              26.000000\n",
            "Rev             41.250000\n",
            "Sir             49.000000\n",
            "the Countess    33.000000\n",
            "Name: Age, dtype: float64\n"
          ],
          "name": "stdout"
        }
      ]
    },
    {
      "cell_type": "markdown",
      "metadata": {
        "id": "FKvh21o_aetq"
      },
      "source": [
        "There is 18 titles in the dataset and most of them are very uncommon so we like to group them in 4 categories."
      ]
    },
    {
      "cell_type": "code",
      "metadata": {
        "id": "gcV4Y_S8aetq"
      },
      "source": [
        "# Convert to categorical values Title \n",
        "dataset[\"Title\"] = dataset[\"Title\"].replace(['Lady', 'the Countess',\n",
        "                                             'Capt', 'Col','Don', 'Dr', \n",
        "                                             'Major', 'Rev', 'Sir', 'Jonkheer',\n",
        "                                             'Dona'], 'Rare')\n",
        "\n",
        "dataset[\"Title\"] = dataset[\"Title\"].map({\"Master\":0, \"Miss\":1, \"Ms\" : 1 ,\n",
        "                                         \"Mme\":1, \"Mlle\":1, \"Mrs\":1, \"Mr\":2, \n",
        "                                         \"Rare\":3})\n",
        "\n",
        "dataset[\"Title\"] = dataset[\"Title\"].astype(int)\n",
        "\n",
        "# Drop Name variable\n",
        "dataset.drop(labels = [\"Name\"], axis = 1, inplace = True)"
      ],
      "execution_count": 48,
      "outputs": []
    },
    {
      "cell_type": "code",
      "metadata": {
        "id": "7o2ZIcnEaets",
        "outputId": "76ec57f1-cea7-4e80-f74d-d691a3af0da4",
        "colab": {
          "base_uri": "https://localhost:8080/",
          "height": 339
        }
      },
      "source": [
        "# viz counts the title coloumn\n",
        "sns.countplot(dataset[\"Title\"]).set_xticklabels([\"Master\",\"Miss-Mrs\",\"Mr\",\"Rare\"]);"
      ],
      "execution_count": 49,
      "outputs": [
        {
          "output_type": "stream",
          "text": [
            "/usr/local/lib/python3.6/dist-packages/seaborn/_decorators.py:43: FutureWarning: Pass the following variable as a keyword arg: x. From version 0.12, the only valid positional argument will be `data`, and passing other arguments without an explicit keyword will result in an error or misinterpretation.\n",
            "  FutureWarning\n"
          ],
          "name": "stderr"
        },
        {
          "output_type": "display_data",
          "data": {
            "image/png": "[encoded data removed]",
            "text/plain": [
              "<Figure size 432x288 with 1 Axes>"
            ]
          },
          "metadata": {
            "tags": [],
            "needs_background": "light"
          }
        }
      ]
    },
    {
      "cell_type": "code",
      "metadata": {
        "id": "TWPiZqoiaetu",
        "outputId": "6f55a5d5-5782-4e86-82b8-b0f114a889f9",
        "colab": {
          "base_uri": "https://localhost:8080/",
          "height": 285
        }
      },
      "source": [
        "# Let's see, based on title what's the survival probability\n",
        "sns.barplot(x='Title', y='Survived', data=dataset);"
      ],
      "execution_count": 50,
      "outputs": [
        {
          "output_type": "display_data",
          "data": {
            "image/png": "[encoded data removed]",
            "text/plain": [
              "<Figure size 432x288 with 1 Axes>"
            ]
          },
          "metadata": {
            "tags": [],
            "needs_background": "light"
          }
        }
      ]
    },
    {
      "cell_type": "markdown",
      "metadata": {
        "id": "TJsyn9_Jaetx"
      },
      "source": [
        "Catching Aspects:\n",
        "\n",
        "- People with the title 'Mr' survived less than people with any other title.\n",
        "- Titles with a survival rate higher than 70% are those that correspond to female (Miss-Mrs)\n",
        "\n",
        "Our new category, 'Rare', should be more discretized. As we can see by the error bar (black line), there is a significant uncertainty around the mean value. Probably, one of the problems is that we are mixing male and female titles in the 'Rare' category. We should proceed with a more detailed analysis to sort this out. Also, the category 'Master' seems to have a similar problem. For now, we will not make any changes, but we will keep these two situations in our mind for future improvement of our data set.\n",
        "\n",
        "\n",
        "From now on, there's no Name features and have Title feature to represent it."
      ]
    },
    {
      "cell_type": "code",
      "metadata": {
        "id": "7hbGkgyYaetx",
        "outputId": "772a8b78-8765-46ce-e8ea-9ae76d5d8669",
        "colab": {
          "base_uri": "https://localhost:8080/",
          "height": 204
        }
      },
      "source": [
        "# viz top 5\n",
        "dataset.head()"
      ],
      "execution_count": 51,
      "outputs": [
        {
          "output_type": "execute_result",
          "data": {
            "text/html": [
              "<div>\n",
              "<style scoped>\n",
              "    .dataframe tbody tr th:only-of-type {\n",
              "        vertical-align: middle;\n",
              "    }\n",
              "\n",
              "    .dataframe tbody tr th {\n",
              "        vertical-align: top;\n",
              "    }\n",
              "\n",
              "    .dataframe thead th {\n",
              "        text-align: right;\n",
              "    }\n",
              "</style>\n",
              "<table border=\"1\" class=\"dataframe\">\n",
              "  <thead>\n",
              "    <tr style=\"text-align: right;\">\n",
              "      <th></th>\n",
              "      <th>PassengerId</th>\n",
              "      <th>Survived</th>\n",
              "      <th>Pclass</th>\n",
              "      <th>Age</th>\n",
              "      <th>SibSp</th>\n",
              "      <th>Parch</th>\n",
              "      <th>Ticket</th>\n",
              "      <th>Fare</th>\n",
              "      <th>Cabin</th>\n",
              "      <th>male</th>\n",
              "      <th>Q</th>\n",
              "      <th>S</th>\n",
              "      <th>Title</th>\n",
              "    </tr>\n",
              "  </thead>\n",
              "  <tbody>\n",
              "    <tr>\n",
              "      <th>0</th>\n",
              "      <td>1</td>\n",
              "      <td>0.0</td>\n",
              "      <td>3</td>\n",
              "      <td>22.0</td>\n",
              "      <td>1</td>\n",
              "      <td>0</td>\n",
              "      <td>A/5 21171</td>\n",
              "      <td>7.2500</td>\n",
              "      <td>NaN</td>\n",
              "      <td>1</td>\n",
              "      <td>0</td>\n",
              "      <td>1</td>\n",
              "      <td>2</td>\n",
              "    </tr>\n",
              "    <tr>\n",
              "      <th>1</th>\n",
              "      <td>2</td>\n",
              "      <td>1.0</td>\n",
              "      <td>1</td>\n",
              "      <td>38.0</td>\n",
              "      <td>1</td>\n",
              "      <td>0</td>\n",
              "      <td>PC 17599</td>\n",
              "      <td>71.2833</td>\n",
              "      <td>C85</td>\n",
              "      <td>0</td>\n",
              "      <td>0</td>\n",
              "      <td>0</td>\n",
              "      <td>1</td>\n",
              "    </tr>\n",
              "    <tr>\n",
              "      <th>2</th>\n",
              "      <td>3</td>\n",
              "      <td>1.0</td>\n",
              "      <td>3</td>\n",
              "      <td>26.0</td>\n",
              "      <td>0</td>\n",
              "      <td>0</td>\n",
              "      <td>STON/O2. 3101282</td>\n",
              "      <td>7.9250</td>\n",
              "      <td>NaN</td>\n",
              "      <td>0</td>\n",
              "      <td>0</td>\n",
              "      <td>1</td>\n",
              "      <td>1</td>\n",
              "    </tr>\n",
              "    <tr>\n",
              "      <th>3</th>\n",
              "      <td>4</td>\n",
              "      <td>1.0</td>\n",
              "      <td>1</td>\n",
              "      <td>35.0</td>\n",
              "      <td>1</td>\n",
              "      <td>0</td>\n",
              "      <td>113803</td>\n",
              "      <td>53.1000</td>\n",
              "      <td>C123</td>\n",
              "      <td>0</td>\n",
              "      <td>0</td>\n",
              "      <td>1</td>\n",
              "      <td>1</td>\n",
              "    </tr>\n",
              "    <tr>\n",
              "      <th>4</th>\n",
              "      <td>5</td>\n",
              "      <td>0.0</td>\n",
              "      <td>3</td>\n",
              "      <td>35.0</td>\n",
              "      <td>0</td>\n",
              "      <td>0</td>\n",
              "      <td>373450</td>\n",
              "      <td>8.0500</td>\n",
              "      <td>NaN</td>\n",
              "      <td>1</td>\n",
              "      <td>0</td>\n",
              "      <td>1</td>\n",
              "      <td>2</td>\n",
              "    </tr>\n",
              "  </tbody>\n",
              "</table>\n",
              "</div>"
            ],
            "text/plain": [
              "   PassengerId  Survived  Pclass   Age  SibSp  ...  Cabin male  Q  S  Title\n",
              "0            1       0.0       3  22.0      1  ...    NaN    1  0  1      2\n",
              "1            2       1.0       1  38.0      1  ...    C85    0  0  0      1\n",
              "2            3       1.0       3  26.0      0  ...    NaN    0  0  1      1\n",
              "3            4       1.0       1  35.0      1  ...   C123    0  0  1      1\n",
              "4            5       0.0       3  35.0      0  ...    NaN    1  0  1      2\n",
              "\n",
              "[5 rows x 13 columns]"
            ]
          },
          "metadata": {
            "tags": []
          },
          "execution_count": 51
        }
      ]
    },
    {
      "cell_type": "markdown",
      "metadata": {
        "id": "LdmAwwVfaetz"
      },
      "source": [
        "##  Family size\n",
        "\n",
        "I like to create a `Famize` feature which is the sum of `SibSp` , `Parch`."
      ]
    },
    {
      "cell_type": "code",
      "metadata": {
        "id": "LIFwMp6zaetz"
      },
      "source": [
        "# Create a family size descriptor from SibSp and Parch\n",
        "dataset[\"Famize\"] = dataset[\"SibSp\"] + dataset[\"Parch\"] + 1\n",
        "\n",
        "# Drop SibSp and Parch variables\n",
        "dataset.drop(labels = [\"SibSp\",'Parch'], axis = 1, inplace = True)"
      ],
      "execution_count": 52,
      "outputs": []
    },
    {
      "cell_type": "code",
      "metadata": {
        "id": "pEz6FunVaet0",
        "outputId": "da3aeac7-addf-426e-b233-a48c7958c629",
        "colab": {
          "base_uri": "https://localhost:8080/",
          "height": 0
        }
      },
      "source": [
        "# Viz the survival probabily of Famize feature\n",
        "\n",
        "facet = sns.FacetGrid(dataset, hue=\"Survived\",aspect=4)\n",
        "facet.map(sns.kdeplot,'Famize',shade= True)\n",
        "facet.set(xlim=(0, dataset['Famize'].max()))\n",
        "facet.add_legend()\n",
        "plt.xlim(0);"
      ],
      "execution_count": 53,
      "outputs": [
        {
          "output_type": "display_data",
          "data": {
            "image/png": "[encoded data removed]",
            "text/plain": [
              "<Figure size 925.55x216 with 1 Axes>"
            ]
          },
          "metadata": {
            "tags": [],
            "needs_background": "light"
          }
        }
      ]
    },
    {
      "cell_type": "markdown",
      "metadata": {
        "id": "RFSfFA4Eaet2"
      },
      "source": [
        "Survival probability is worst for large families."
      ]
    },
    {
      "cell_type": "markdown",
      "metadata": {
        "id": "dstlDN1Jaet3"
      },
      "source": [
        "## Cabin & Ticket\n",
        "Now, `Cabin` feature has a huge data missing. So, I like to drop it anyway. Moreover, we also can't get to much information by `Ticket` feature for prediction task."
      ]
    },
    {
      "cell_type": "code",
      "metadata": {
        "id": "wmj6ZQuOaet3"
      },
      "source": [
        "# drop some useless features\n",
        "dataset.drop(labels = [\"Ticket\",'Cabin','PassengerId'], axis = 1, \n",
        "             inplace = True)"
      ],
      "execution_count": 54,
      "outputs": []
    },
    {
      "cell_type": "markdown",
      "metadata": {
        "id": "aCI5vWB6aet4"
      },
      "source": [
        "# Predictive Modeling <a class=\"anchor\" id=\"10-bullet\"></a>\n",
        "<hr>\n",
        "\n",
        "Here, we split our datasets according to the previous amounts and make test and train set. To avoid overfitting event we can create validation set but that's not effective. So, we use [**K-Fold**](http://scikit-learn.org/stable/modules/cross_validation.html#k-fold) approaches and use [**StratifiedKFold**](http://scikit-learn.org/stable/modules/cross_validation.html#stratified-k-fold) to split the train datasets into 10 (by default)."
      ]
    },
    {
      "cell_type": "code",
      "metadata": {
        "id": "glkEGpm7aet5",
        "outputId": "eb133c87-7571-4fc0-da70-2c64029e2974",
        "colab": {
          "base_uri": "https://localhost:8080/",
          "height": 102
        }
      },
      "source": [
        "# Separate train dataset and test dataset\n",
        "train = dataset[:len(train)]\n",
        "test = dataset[len(train):]\n",
        "test.drop(labels=[\"Survived\"],axis = 1,inplace = True)\n",
        "\n",
        "## Separate train features and label \n",
        "Y_train = train[\"Survived\"].astype(int)\n",
        "X_train = train.drop(labels = [\"Survived\"],axis = 1)\n",
        "\n",
        "# Cross validate model with Kfold stratified cross val\n",
        "K_fold = StratifiedKFold(n_splits=10)"
      ],
      "execution_count": 55,
      "outputs": [
        {
          "output_type": "stream",
          "text": [
            "/usr/local/lib/python3.6/dist-packages/pandas/core/frame.py:4170: SettingWithCopyWarning: \n",
            "A value is trying to be set on a copy of a slice from a DataFrame\n",
            "\n",
            "See the caveats in the documentation: https://pandas.pydata.org/pandas-docs/stable/user_guide/indexing.html#returning-a-view-versus-a-copy\n",
            "  errors=errors,\n"
          ],
          "name": "stderr"
        }
      ]
    },
    {
      "cell_type": "markdown",
      "metadata": {
        "id": "CGEnKju9aet7"
      },
      "source": [
        "## Classifier <a class=\"anchor\" id=\"11-bullet\"></a>\n",
        "<hr>\n",
        "\n",
        "I compared 10 popular classifiers and evaluate the mean accuracy of each of them by a stratified kfold cross validation procedure.\n",
        "\n",
        "- KNN\n",
        "- AdaBoost\n",
        "- Decision Tree\n",
        "- Random Forest\n",
        "- Extra Trees\n",
        "- Support Vector Machine\n",
        "- Gradient Boosting\n",
        "- Logistic regression\n",
        "- Linear Discriminant Analysis\n",
        "- Multiple layer perceprton\n",
        "\n",
        "## Evaluation using Cross Validation\n",
        "A great alternative is to use Scikit-Learn's `cross-validation` feature. The following performs **K-fold** cross validation; it randomly splits the training set into 10 distinct subsets called folds, then it trains and evaluates the Models 10 times, picking a different fold for evaluation every time and training on the other 9 folds."
      ]
    },
    {
      "cell_type": "code",
      "metadata": {
        "id": "9EjepgQFaet7",
        "outputId": "3731103e-8382-49fa-e578-ec4d239a3792",
        "colab": {
          "base_uri": "https://localhost:8080/",
          "height": 355
        }
      },
      "source": [
        "# Modeling step Test differents algorithms \n",
        "random_state = 2\n",
        "\n",
        "models = [] # append all models or predictive models \n",
        "cv_results = [] # cross validation result\n",
        "cv_means = [] # cross validation mean value\n",
        "cv_std = [] # cross validation standard deviation\n",
        "\n",
        "models.append(KNeighborsClassifier())\n",
        "models.append(AdaBoostClassifier(DecisionTreeClassifier(random_state=random_state),random_state=random_state,learning_rate=0.1))\n",
        "models.append(DecisionTreeClassifier(random_state=random_state))\n",
        "models.append(RandomForestClassifier(random_state=random_state))\n",
        "models.append(ExtraTreesClassifier(random_state=random_state))\n",
        "models.append(SVC(random_state=random_state))\n",
        "models.append(GradientBoostingClassifier(random_state=random_state))\n",
        "models.append(LogisticRegression(random_state = random_state))\n",
        "models.append(LinearDiscriminantAnalysis())\n",
        "models.append(MLPClassifier(random_state=random_state))\n",
        "\n",
        "\n",
        "for model in models :\n",
        "    cv_results.append(cross_val_score(model, X_train, Y_train, \n",
        "                                      scoring = \"accuracy\", cv = K_fold, n_jobs=4))\n",
        "\n",
        "for cv_result in cv_results:\n",
        "    cv_means.append(cv_result.mean())\n",
        "    cv_std.append(cv_result.std())\n",
        "\n",
        "cv_frame = pd.DataFrame(\n",
        "    {\n",
        "        \"CrossValMeans\":cv_means,\n",
        "        \"CrossValErrors\": cv_std,\n",
        "        \"Algorithms\":[\n",
        "                     \"KNeighboors\",\n",
        "                     \"AdaBoost\", \n",
        "                     \"DecisionTree\",   \n",
        "                     \"RandomForest\",\n",
        "                     \"ExtraTrees\",\n",
        "                     \"SVC\",\n",
        "                     \"GradientBoosting\",                      \n",
        "                     \"LogisticRegression\",\n",
        "                     \"LinearDiscriminantAnalysis\",\n",
        "                     \"MultipleLayerPerceptron\"]\n",
        "    })\n",
        "\n",
        "cv_plot = sns.barplot(\"CrossValMeans\",\"Algorithms\", data = cv_frame,\n",
        "                palette=\"husl\", orient = \"h\", **{'xerr':cv_std})\n",
        "\n",
        "cv_plot.set_xlabel(\"Mean Accuracy\")\n",
        "cv_plot = cv_plot.set_title(\"CV Scores\")"
      ],
      "execution_count": 56,
      "outputs": [
        {
          "output_type": "stream",
          "text": [
            "/usr/local/lib/python3.6/dist-packages/seaborn/_decorators.py:43: FutureWarning: Pass the following variables as keyword args: x, y. From version 0.12, the only valid positional argument will be `data`, and passing other arguments without an explicit keyword will result in an error or misinterpretation.\n",
            "  FutureWarning\n"
          ],
          "name": "stderr"
        },
        {
          "output_type": "display_data",
          "data": {
            "image/png": "[encoded data removed]",
            "text/plain": [
              "<Figure size 432x288 with 1 Axes>"
            ]
          },
          "metadata": {
            "tags": [],
            "needs_background": "light"
          }
        }
      ]
    },
    {
      "cell_type": "markdown",
      "metadata": {
        "id": "P6U4p16Gaet9"
      },
      "source": [
        "Let's explore following models separately:\n",
        "\n",
        "- GBC Classifier\n",
        "- Linear Discriminant Analysis \n",
        "- Logistic Regression\n",
        "- Random Forest Classifer\n",
        "- Gaussian Naive Bayes\n",
        "- Support Vectore Machine"
      ]
    },
    {
      "cell_type": "code",
      "metadata": {
        "id": "NZbZWBP8aet9",
        "outputId": "7e92a959-54df-4fd5-b64a-ca5e920432dc",
        "colab": {
          "base_uri": "https://localhost:8080/",
          "height": 68
        }
      },
      "source": [
        "# GBC Classifier\n",
        "GBC_Model = GradientBoostingClassifier()\n",
        "\n",
        "scores = cross_val_score(GBC_Model, X_train, Y_train, cv = K_fold,\n",
        "                       n_jobs = 4, scoring = 'accuracy')\n",
        "\n",
        "print(scores)\n",
        "round(np.mean(scores)*100, 2)"
      ],
      "execution_count": 57,
      "outputs": [
        {
          "output_type": "stream",
          "text": [
            "[0.83146067 0.82954545 0.76136364 0.89772727 0.90909091 0.875\n",
            " 0.84090909 0.79545455 0.84090909 0.82954545]\n"
          ],
          "name": "stdout"
        },
        {
          "output_type": "execute_result",
          "data": {
            "text/plain": [
              "84.11"
            ]
          },
          "metadata": {
            "tags": []
          },
          "execution_count": 57
        }
      ]
    },
    {
      "cell_type": "code",
      "metadata": {
        "id": "CNac_601aet_",
        "outputId": "31f2163e-6f9e-4ec1-8691-75af62e0032d",
        "colab": {
          "base_uri": "https://localhost:8080/",
          "height": 68
        }
      },
      "source": [
        "# Linear Discriminant Analysis \n",
        "LDA_Model= LinearDiscriminantAnalysis()\n",
        "\n",
        "scores = cross_val_score(LDA_Model, X_train, Y_train, cv = K_fold,\n",
        "                       n_jobs = 4, scoring = 'accuracy')\n",
        "\n",
        "print(scores)\n",
        "round(np.mean(scores)*100, 2)"
      ],
      "execution_count": 58,
      "outputs": [
        {
          "output_type": "stream",
          "text": [
            "[0.84269663 0.82954545 0.76136364 0.88636364 0.81818182 0.80681818\n",
            " 0.79545455 0.78409091 0.86363636 0.84090909]\n"
          ],
          "name": "stdout"
        },
        {
          "output_type": "execute_result",
          "data": {
            "text/plain": [
              "82.29"
            ]
          },
          "metadata": {
            "tags": []
          },
          "execution_count": 58
        }
      ]
    },
    {
      "cell_type": "code",
      "metadata": {
        "id": "H7kytVXfaeuA",
        "outputId": "0a1d0d4c-e38f-4dbb-9dbe-cb54c4e3894e",
        "colab": {
          "base_uri": "https://localhost:8080/",
          "height": 68
        }
      },
      "source": [
        "# Logistic Regression\n",
        "#\n",
        "Log_Model = LogisticRegression(C=1)\n",
        "scores = cross_val_score(Log_Model, X_train, Y_train, cv=K_fold, \n",
        "                        n_jobs=4, scoring='accuracy')\n",
        "\n",
        "print(scores)\n",
        "round(np.mean(scores)*100, 2)"
      ],
      "execution_count": 59,
      "outputs": [
        {
          "output_type": "stream",
          "text": [
            "[0.80898876 0.85227273 0.77272727 0.88636364 0.82954545 0.79545455\n",
            " 0.79545455 0.79545455 0.85227273 0.86363636]\n"
          ],
          "name": "stdout"
        },
        {
          "output_type": "execute_result",
          "data": {
            "text/plain": [
              "82.52"
            ]
          },
          "metadata": {
            "tags": []
          },
          "execution_count": 59
        }
      ]
    },
    {
      "cell_type": "code",
      "metadata": {
        "id": "UocbqxbXaeuC",
        "outputId": "3ea00348-44dd-40f2-bbb5-3d728d10a404",
        "colab": {
          "base_uri": "https://localhost:8080/",
          "height": 68
        }
      },
      "source": [
        "# Random Forest Classifier Model\n",
        "#\n",
        "RFC_model = RandomForestClassifier(n_estimators=10)\n",
        "scores = cross_val_score(RFC_model, X_train, Y_train, cv=K_fold, \n",
        "                        n_jobs=4, scoring='accuracy')\n",
        "\n",
        "print(scores)\n",
        "round(np.mean(scores)*100, 2)"
      ],
      "execution_count": 60,
      "outputs": [
        {
          "output_type": "stream",
          "text": [
            "[0.76404494 0.85227273 0.77272727 0.80681818 0.89772727 0.80681818\n",
            " 0.81818182 0.77272727 0.81818182 0.81818182]\n"
          ],
          "name": "stdout"
        },
        {
          "output_type": "execute_result",
          "data": {
            "text/plain": [
              "81.28"
            ]
          },
          "metadata": {
            "tags": []
          },
          "execution_count": 60
        }
      ]
    },
    {
      "cell_type": "code",
      "metadata": {
        "id": "zlpQbMONaeuD",
        "outputId": "d4d26c18-f0f4-433e-b67f-8bdb9bba9065",
        "colab": {
          "base_uri": "https://localhost:8080/",
          "height": 68
        }
      },
      "source": [
        "# Gaussian Naive Bayes\n",
        "GNB_Model = GaussianNB()\n",
        "\n",
        "scores = cross_val_score(GNB_Model, X_train, Y_train, cv=K_fold, \n",
        "                        n_jobs=4, scoring='accuracy')\n",
        "\n",
        "print(scores)\n",
        "round(np.mean(scores)*100, 2)"
      ],
      "execution_count": 61,
      "outputs": [
        {
          "output_type": "stream",
          "text": [
            "[0.78651685 0.81818182 0.75       0.86363636 0.77272727 0.79545455\n",
            " 0.80681818 0.78409091 0.85227273 0.84090909]\n"
          ],
          "name": "stdout"
        },
        {
          "output_type": "execute_result",
          "data": {
            "text/plain": [
              "80.71"
            ]
          },
          "metadata": {
            "tags": []
          },
          "execution_count": 61
        }
      ]
    },
    {
      "cell_type": "code",
      "metadata": {
        "id": "lvuwZMGraeuG",
        "outputId": "fbf3ad3f-ff36-4d9d-ea7f-d2de80af2295",
        "colab": {
          "base_uri": "https://localhost:8080/",
          "height": 68
        }
      },
      "source": [
        "# Support Vector Machine\n",
        "SVM_Model = SVC()\n",
        "\n",
        "scores = cross_val_score(SVM_Model, X_train, Y_train, cv=K_fold, \n",
        "                        n_jobs=4, scoring='accuracy')\n",
        "\n",
        "print(scores)\n",
        "round(np.mean(scores)*100, 2)"
      ],
      "execution_count": 62,
      "outputs": [
        {
          "output_type": "stream",
          "text": [
            "[0.59550562 0.56818182 0.70454545 0.75       0.65909091 0.69318182\n",
            " 0.70454545 0.73863636 0.71590909 0.70454545]\n"
          ],
          "name": "stdout"
        },
        {
          "output_type": "execute_result",
          "data": {
            "text/plain": [
              "68.34"
            ]
          },
          "metadata": {
            "tags": []
          },
          "execution_count": 62
        }
      ]
    },
    {
      "cell_type": "markdown",
      "metadata": {
        "id": "fXj1AlwaaeuH"
      },
      "source": [
        "# Hyperparameter Tuning <a class=\"anchor\" id=\"12-bullet\"></a>\n",
        "<hr>\n",
        "\n",
        "I decided to choose this promising models of GradientBoosting, Linear Discriminant Analysis, RandomForest, Logistic Regression and SVM for the ensemble modeling. So, now we need to fine-tune them.\n",
        "\n",
        "One way to do that would be to fiddle with the hyperparameters manually until we find a great combination of hyperparamerter values. This would be very tedious work, and we may not have time to explore many combination. Instead we should get `Scikit-Learn's GridSearchCV` to search for us. All we need to do is tell it which hyperparameters we want it to experiment with, and what values to try out and it will evaluate all the possible combination of hyperparameter values, using **cross-validation**.\n",
        "\n",
        "Here we perform grid search optimization for GradientBoosting, RandomForest,  Linear Discriminant Analysis, Logistic Regression and SVC classifier."
      ]
    },
    {
      "cell_type": "code",
      "metadata": {
        "id": "iTyu54CAaeuH",
        "outputId": "5014b393-a949-4bbe-d2d0-86361d22491e",
        "colab": {
          "base_uri": "https://localhost:8080/",
          "height": 102
        }
      },
      "source": [
        "# Gradient boosting tunning\n",
        "GBC = GradientBoostingClassifier()\n",
        "gb_param_grid = {\n",
        "              'loss' : [\"deviance\"],\n",
        "              'n_estimators' : [100,200,300],\n",
        "              'learning_rate': [0.1, 0.05, 0.01, 0.001],\n",
        "              'max_depth': [4, 8,16],\n",
        "              'min_samples_leaf': [100,150,250],\n",
        "              'max_features': [0.3, 0.1]\n",
        "              }\n",
        "\n",
        "gsGBC = GridSearchCV(GBC, param_grid = gb_param_grid, cv=K_fold, \n",
        "                     scoring=\"accuracy\", n_jobs= 4, verbose = 1)\n",
        "\n",
        "gsGBC.fit(X_train,Y_train)\n",
        "GBC_best = gsGBC.best_estimator_\n",
        "\n",
        "# Best score\n",
        "gsGBC.best_score_"
      ],
      "execution_count": null,
      "outputs": [
        {
          "output_type": "stream",
          "text": [
            "Fitting 10 folds for each of 216 candidates, totalling 2160 fits\n"
          ],
          "name": "stdout"
        },
        {
          "output_type": "stream",
          "text": [
            "[Parallel(n_jobs=4)]: Using backend LokyBackend with 4 concurrent workers.\n",
            "[Parallel(n_jobs=4)]: Done  42 tasks      | elapsed:    4.0s\n",
            "[Parallel(n_jobs=4)]: Done 192 tasks      | elapsed:   16.7s\n",
            "[Parallel(n_jobs=4)]: Done 442 tasks      | elapsed:   38.9s\n"
          ],
          "name": "stderr"
        }
      ]
    },
    {
      "cell_type": "code",
      "metadata": {
        "id": "NvZYN0EtaeuJ"
      },
      "source": [
        "# RFC Parameters tunning \n",
        "RFC = RandomForestClassifier()\n",
        "\n",
        "## Search grid for optimal parameters\n",
        "rf_param_grid = {\"max_depth\": [None],\n",
        "              \"min_samples_split\": [2, 6, 20],\n",
        "              \"min_samples_leaf\": [1, 4, 16],\n",
        "              \"n_estimators\" :[100,200,300,400],\n",
        "              \"criterion\": [\"gini\"]}\n",
        "\n",
        "\n",
        "gsRFC = GridSearchCV(RFC, param_grid = rf_param_grid, cv=K_fold,\n",
        "                     scoring=\"accuracy\", n_jobs= 4, verbose = 1)\n",
        "\n",
        "gsRFC.fit(X_train,Y_train)\n",
        "RFC_best = gsRFC.best_estimator_\n",
        "\n",
        "# Best score\n",
        "gsRFC.best_score_"
      ],
      "execution_count": null,
      "outputs": []
    },
    {
      "cell_type": "code",
      "metadata": {
        "id": "aeCfeIUraeuK"
      },
      "source": [
        "# LogisticRegression Parameters tunning \n",
        "LRM = LogisticRegression()\n",
        "\n",
        "## Search grid for optimal parameters\n",
        "lr_param_grid = {\"penalty\" : [\"l2\"],\n",
        "              \"tol\" : [0.0001,0.0002,0.0003],\n",
        "              \"max_iter\": [100,200,300],\n",
        "              \"C\" :[0.01, 0.1, 1, 10, 100],\n",
        "              \"intercept_scaling\": [1, 2, 3, 4],\n",
        "              \"solver\":['liblinear'],\n",
        "              \"verbose\":[1]}\n",
        "\n",
        "\n",
        "gsLRM = GridSearchCV(LRM, param_grid = lr_param_grid, cv=K_fold,\n",
        "                     scoring=\"accuracy\", n_jobs= 4, verbose = 1)\n",
        "\n",
        "gsLRM.fit(X_train,Y_train)\n",
        "LRM_best = gsLRM.best_estimator_\n",
        "\n",
        "# Best score\n",
        "gsLRM.best_score_"
      ],
      "execution_count": null,
      "outputs": []
    },
    {
      "cell_type": "code",
      "metadata": {
        "id": "pTAqlBJhaeuL"
      },
      "source": [
        "# Linear Discriminant Analysis - Parameter Tuning\n",
        "LDA = LinearDiscriminantAnalysis()\n",
        "\n",
        "## Search grid for optimal parameters\n",
        "lda_param_grid = {\"solver\" : [\"svd\"],\n",
        "              \"tol\" : [0.0001,0.0002,0.0003]}\n",
        "\n",
        "\n",
        "gsLDA = GridSearchCV(LDA, param_grid = lda_param_grid, cv=K_fold,\n",
        "                     scoring=\"accuracy\", n_jobs= 4, verbose = 1)\n",
        "\n",
        "gsLDA.fit(X_train,Y_train)\n",
        "LDA_best = gsLDA.best_estimator_\n",
        "\n",
        "# Best score\n",
        "gsLDA.best_score_"
      ],
      "execution_count": null,
      "outputs": []
    },
    {
      "cell_type": "code",
      "metadata": {
        "id": "IXLBxX_RaeuO"
      },
      "source": [
        "### SVC classifier\n",
        "SVMC = SVC(probability=True)\n",
        "svc_param_grid = {'kernel': ['rbf'], \n",
        "                  'gamma': [0.0001, 0.001, 0.01, 0.1, 1],\n",
        "                  'C': [1, 10, 50, 100, 200, 300]}\n",
        "\n",
        "gsSVMC = GridSearchCV(SVMC, param_grid = svc_param_grid, cv = K_fold,\n",
        "                      scoring=\"accuracy\", n_jobs= -1, verbose = 1)\n",
        "\n",
        "gsSVMC.fit(X_train,Y_train)\n",
        "\n",
        "SVMC_best = gsSVMC.best_estimator_\n",
        "\n",
        "# Best score\n",
        "gsSVMC.best_score_"
      ],
      "execution_count": null,
      "outputs": []
    },
    {
      "cell_type": "markdown",
      "metadata": {
        "id": "jHeAilboaeuP"
      },
      "source": [
        "##  Plot Learning Curves <a class=\"anchor\" id=\"13-bullet\"></a>\n",
        "**Diagnose Bias and Variance to Reduce Error**\n",
        "<hr>\n",
        "Learning curves are a good way to see the overfitting and underfitting effect on the training set and the effect of the training size on the accuracy. Learning curves plots the model's performance on the training set and the validation set as a function of training set size. To generate the plots, we simply train the model several times on different sized subsets of the training sets. In a nutshell, a learning curves shows how error changes as the training set size increases.\n",
        "\n",
        "If a models perform well on the training data but generalizes poorly according to the cross-validation metrics, the model is called overfitting. And again if it performs poorly on both, the model is called underfitting.\n",
        "\n",
        "When the model is trained on very few training instances, it is incapable of generalizing properly, which is why the validation error will be initially quite big.\n",
        "\n",
        "> **Underfitting**: If model is underfitting the training data, adding more training example will not help. We need to use more complex model or come up with better features.\n",
        "\n",
        "> **Overfitting**: One way to improve the overfitting model is to feed it more training data until the validation error reaches the training error.\n",
        "\n",
        "**Resource**\n",
        "- [Learning Curves for Machine Learning](https://www.dataquest.io/blog/learning-curves-machine-learning/)\n",
        "\n",
        "\n",
        "## Bias-Variance Trade-Off\n",
        "<hr>\n",
        "A model's generalization error can be expressed as the sum of three very different errors.\n",
        "\n",
        "- Bias\n",
        "- Variance\n",
        "- Irreducible Error\n",
        "\n",
        "#### Bias Error in Learning Curve\n",
        "This part of generalization error is due to the wrong assumption, such as assuming that, the data is linear when it is actually quadratic.\n",
        "\n",
        "- **A high bias model is most likely to underfit the training data**\n",
        "\n",
        "\n",
        "#### Variance Error in Learning Curve\n",
        "This part of generalization is due to the model is excessive sensitivity to small variations in the training data.\n",
        "\n",
        "- **A high variance model is most likely to overfit the training data**\n",
        "\n",
        "#### Irreducible Error in Learning Curve\n",
        "This is due to the noisiness of the data itself. This is not concern now, because we already clean the data sets.\n",
        "\n",
        "<hr>\n",
        "\n",
        "Increasing a model's complexity will typically increases its variance and reduce its bias. Conversly, reducing a model's complexity increases its bias and reduces its variance.\n",
        "\n",
        "\n",
        "Now, we'll define a learning curve ploting function where `x` and `y` axies will be traning set size and scores (not errors) gradually. So the higher the score, the better the performance of the model."
      ]
    },
    {
      "cell_type": "code",
      "metadata": {
        "id": "o1mFeSLTaeuP"
      },
      "source": [
        "# Plot learning curve\n",
        "def plot_learning_curve(estimator, title, X, y, ylim=None, cv=None,\n",
        "                        n_jobs=-1, train_sizes=np.linspace(.1, 1.0, 5)):\n",
        "    \"\"\"\n",
        "    Generate a simple plot of the test and traning learning curve.\n",
        "\n",
        "    Parameters\n",
        "    ----------\n",
        "    estimator : object type that implements the \"fit\" and \"predict\" methods\n",
        "        An object of that type which is cloned for each validation.\n",
        "\n",
        "    title : string\n",
        "        Title for the chart.\n",
        "\n",
        "    X : array-like, shape (n_samples, n_features)\n",
        "        Training vector, where n_samples is the number of samples and\n",
        "        n_features is the number of features.\n",
        "\n",
        "    y : array-like, shape (n_samples) or (n_samples, n_features), optional\n",
        "        Target relative to X for classification or regression;\n",
        "        None for unsupervised learning.\n",
        "\n",
        "    ylim : tuple, shape (ymin, ymax), optional\n",
        "        Defines minimum and maximum yvalues plotted.\n",
        "\n",
        "    cv : integer, cross-validation generator, optional\n",
        "        If an integer is passed, it is the number of folds (defaults to 3).\n",
        "        Specific cross-validation objects can be passed, see\n",
        "        sklearn.cross_validation module for the list of possible objects\n",
        "\n",
        "    n_jobs : integer, optional\n",
        "        Number of jobs to run in parallel (default 1).\n",
        "        \n",
        "    x1 = np.linspace(0, 10, 8, endpoint=True) produces\n",
        "        8 evenly spaced points in the range 0 to 10\n",
        "    \"\"\"\n",
        "    \n",
        "    \n",
        "    plt.figure()\n",
        "    plt.title(title)\n",
        "    if ylim is not None:\n",
        "        plt.ylim(*ylim)\n",
        "        \n",
        "    plt.xlabel(\"Training examples\")\n",
        "    plt.ylabel(\"Score\")\n",
        "    train_sizes, train_scores, test_scores = learning_curve(\n",
        "        estimator, X, y, cv=cv, n_jobs=n_jobs, train_sizes=train_sizes)\n",
        "    train_scores_mean = np.mean(train_scores, axis=1)\n",
        "    train_scores_std = np.std(train_scores, axis=1)\n",
        "    test_scores_mean = np.mean(test_scores, axis=1)\n",
        "    test_scores_std = np.std(test_scores, axis=1)\n",
        "    plt.grid()\n",
        "\n",
        "    plt.fill_between(train_sizes, train_scores_mean - train_scores_std,\n",
        "                     train_scores_mean + train_scores_std, alpha=0.1,\n",
        "                     color=\"r\")\n",
        "    plt.fill_between(train_sizes, test_scores_mean - test_scores_std,\n",
        "                     test_scores_mean + test_scores_std, alpha=0.1, color=\"g\")\n",
        "    plt.plot(train_sizes, train_scores_mean, 'o-', color=\"r\",\n",
        "             label=\"Training score\")\n",
        "    plt.plot(train_sizes, test_scores_mean, 'o-', color=\"g\",\n",
        "             label=\"Cross-validation score\")\n",
        "\n",
        "    plt.legend(loc=\"best\")\n",
        "    return plt"
      ],
      "execution_count": null,
      "outputs": []
    },
    {
      "cell_type": "code",
      "metadata": {
        "id": "m4XPJ0OyaeuQ"
      },
      "source": [
        "# Gradient boosting - Learning Curve \n",
        "plot_learning_curve(estimator = gsGBC.best_estimator_,title = \"GBC learning curve\",\n",
        "                    X = X_train, y = Y_train, cv = K_fold);"
      ],
      "execution_count": null,
      "outputs": []
    },
    {
      "cell_type": "code",
      "metadata": {
        "id": "7_725o7-aeuS"
      },
      "source": [
        "# Random Forest - Learning Curve\n",
        "plot_learning_curve(estimator = gsRFC.best_estimator_ ,title = \"RF learninc curve\",\n",
        "                    X = X_train, y = Y_train, cv = K_fold);"
      ],
      "execution_count": null,
      "outputs": []
    },
    {
      "cell_type": "code",
      "metadata": {
        "id": "yXXWHcDTaeuT"
      },
      "source": [
        "# Logistic Regression - Learning Curve    gsLRM.best_estimator_\n",
        "plot_learning_curve(estimator = Log_Model ,title = \"Logistic Regression - Learning Curve\",\n",
        "                    X = X_train, y = Y_train, cv = K_fold);"
      ],
      "execution_count": null,
      "outputs": []
    },
    {
      "cell_type": "code",
      "metadata": {
        "id": "-0q1owB3aeuU"
      },
      "source": [
        "# Linear Discriminant Analysis - Learning Curve\n",
        "plot_learning_curve(estimator = gsLDA.best_estimator_ ,title = \"Linear Discriminant - Learning Curve\",\n",
        "                    X = X_train, y = Y_train, cv = K_fold);"
      ],
      "execution_count": null,
      "outputs": []
    },
    {
      "cell_type": "code",
      "metadata": {
        "id": "2OSNjYpgaeuV"
      },
      "source": [
        "# Support Vector Machine - Learning Curve\n",
        "plot_learning_curve(estimator = gsSVMC.best_estimator_,title = \"SVC learning curve\",\n",
        "                    X = X_train, y = Y_train, cv = K_fold);"
      ],
      "execution_count": null,
      "outputs": []
    },
    {
      "cell_type": "markdown",
      "metadata": {
        "id": "6vmhM1NSaeuX"
      },
      "source": [
        "SVC seem to better generalize the prediction since the training and cross-validation curves are close together. And again Random Forest and GradientBoosting classifiers tend to overfit the training set. One way to improve the overfitting model is to feed it more training data until the validation error reaches the training error."
      ]
    },
    {
      "cell_type": "markdown",
      "metadata": {
        "id": "lY_I6THraeuX"
      },
      "source": [
        "# Ensemble modeling <a class=\"anchor\" id=\"14-bullet\"></a>\n",
        "<hr>\n",
        "\n",
        "The another way to fine-tune our system is to try to combine the models that perform best. The goup will often perform better than the best individual model, especially if the individual models make very different types of errors.\n",
        "\n",
        "Building a model on top of many other models are called Ensemble Learning. And it is often a great way to push ML algorithm even further.\n",
        "\n",
        "I used **voting classifier** to combine the predictions coming from the 5 classifiers. I preferred to pass the argument `soft` to the voting parameter to take into account the probability of each vote."
      ]
    },
    {
      "cell_type": "code",
      "metadata": {
        "id": "2RXgLTXOaeuX"
      },
      "source": [
        "#about 84%\n",
        "VotingPredictor = VotingClassifier(estimators =\n",
        "                           [('rfc', RFC_best), \n",
        "                            ('gbc', GBC_best)],\n",
        "                           voting='soft', n_jobs = 4)\n",
        "\n",
        "# 82.97%\n",
        "# VotingPredictor = VotingClassifier(estimators =\n",
        "#                            [ ('rfc', RFC_best), \n",
        "#                             ('svc', SVMC_best),\n",
        "#                             ('gbc', GBC_best),\n",
        "#                             ('lda', LDA_best),\n",
        "#                             ('lrm', LRM_best)],\n",
        "#                            voting='soft', n_jobs = 4)\n",
        "\n",
        "VotingPredictor = VotingPredictor.fit(X_train, Y_train)\n",
        "\n",
        "scores = cross_val_score(VotingPredictor, X_train, Y_train, cv = K_fold,\n",
        "                       n_jobs = 4, scoring = 'accuracy')\n",
        "\n",
        "print(scores)\n",
        "print(round(np.mean(scores)*100, 2))"
      ],
      "execution_count": null,
      "outputs": []
    },
    {
      "cell_type": "code",
      "metadata": {
        "id": "G99I-ng3aeuZ"
      },
      "source": [
        "# Voting Predictor - Learning Curve\n",
        "plot_learning_curve(estimator = VotingPredictor, title = \"VP learning curve\",\n",
        "                    X = X_train, y = Y_train, cv = K_fold);"
      ],
      "execution_count": null,
      "outputs": []
    },
    {
      "cell_type": "markdown",
      "metadata": {
        "id": "Gvg7pQGvaeua"
      },
      "source": [
        "## Submit Predictor  <a class=\"anchor\" id=\"15-bullet\"></a>\n",
        "**Kaggle : Titanic Competition**"
      ]
    },
    {
      "cell_type": "code",
      "metadata": {
        "id": "8qM-S3ijaeub"
      },
      "source": [
        "Predictive_Model = pd.DataFrame({\n",
        "        \"PassengerId\": TestPassengerID,\n",
        "        \"Survived\": VotingPredictor.predict(test)})\n",
        "\n",
        "Predictive_Model.to_csv('titanic_model.csv', index=False)"
      ],
      "execution_count": null,
      "outputs": []
    },
    {
      "cell_type": "code",
      "metadata": {
        "id": "8vf8veDUaeue"
      },
      "source": [
        "# Let's look inside\n",
        "submission = pd.read_csv('titanic_model.csv')\n",
        "submission.head()"
      ],
      "execution_count": null,
      "outputs": []
    }
  ]
}