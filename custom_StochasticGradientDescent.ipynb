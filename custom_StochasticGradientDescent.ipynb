{
  "nbformat": 4,
  "nbformat_minor": 0,
  "metadata": {
    "colab": {
      "name": "custom_StochasticGradientDescent.ipynb",
      "provenance": [],
      "authorship_tag": "ABX9TyNyg7hTMxMyfBBFkqKZ18EE",
      "include_colab_link": true
    },
    "kernelspec": {
      "name": "python3",
      "display_name": "Python 3"
    }
  },
  "cells": [
    {
      "cell_type": "markdown",
      "metadata": {
        "id": "view-in-github",
        "colab_type": "text"
      },
      "source": [
        "<a href=\"https://colab.research.google.com/github/nikit34/training_DS/blob/main/custom_StochasticGradientDescent.ipynb\" target=\"_parent\"><img src=\"https://colab.research.google.com/assets/colab-badge.svg\" alt=\"Open In Colab\"/></a>"
      ]
    },
    {
      "cell_type": "code",
      "metadata": {
        "id": "FLp19HU7SXsr"
      },
      "source": [
        "import numpy as np\n",
        "import pandas as pd\n",
        "\n",
        "from sklearn import preprocessing\n",
        "from sklearn.model_selection import train_test_split\n",
        "\n",
        "import matplotlib.pyplot as plt"
      ],
      "execution_count": 1,
      "outputs": []
    },
    {
      "cell_type": "code",
      "metadata": {
        "id": "PooQltRYjFuU"
      },
      "source": [
        "data = pd.read_csv('dataset.csv', sep=',')"
      ],
      "execution_count": 2,
      "outputs": []
    },
    {
      "cell_type": "code",
      "metadata": {
        "id": "w7Eqh6dFq5B5"
      },
      "source": [
        "x = data['weight']\n",
        "y = data['height']\n",
        "x_train, x_test, y_train, y_test = train_test_split(x, y, test_size=0.2, random_state=0)"
      ],
      "execution_count": 3,
      "outputs": []
    },
    {
      "cell_type": "code",
      "metadata": {
        "id": "N5YAAJXYiTXz"
      },
      "source": [
        "x_train = np.array(x_train)\n",
        "y_train = np.array(y_train)\n",
        "\n",
        "# нормализуем по минимальному значению\n",
        "scaler = preprocessing.MaxAbsScaler()\n",
        "x_scaled = scaler.fit_transform(x_train.reshape(-1,1))\n",
        "y_scaled = scaler.fit_transform(y_train.reshape(-1,1))\n",
        "\n",
        "x_train = pd.DataFrame(x_scaled)\n",
        "y_train = pd.DataFrame(y_scaled)"
      ],
      "execution_count": 4,
      "outputs": []
    },
    {
      "cell_type": "code",
      "metadata": {
        "id": "wM0mIXyEMAGx"
      },
      "source": [
        ""
      ],
      "execution_count": null,
      "outputs": []
    },
    {
      "cell_type": "code",
      "metadata": {
        "id": "LN36FU66JB1X"
      },
      "source": [
        "class StochasticGradientDescent:\n",
        "    def __init__(self, learn_rate=0.001, num_iterate=1000, k=10):\n",
        "        self.learn_rate = learn_rate\n",
        "        self.num_iterate = num_iterate\n",
        "        self.k = k\n",
        "        \n",
        "        self.weight = None\n",
        "        self.bias = None\n",
        "\n",
        "    def fit(self, x_train, y_train):\n",
        "        len_train = len(x_train)\n",
        "\n",
        "        if len_train != len(y_train) or len_train == 0:\n",
        "            raise IndexError(\"Dimension of data does not match pattern\")\n",
        "\n",
        "        weight_current = np.zeros(shape=(1, x_train.shape[1]))\n",
        "        bias_current = 0\n",
        "        current_iterate = 1\n",
        "\n",
        "        while current_iterate <= self.num_iterate:\n",
        "            weight_old = weight_current\n",
        "            bias_old = bias_current\n",
        "\n",
        "            weight_tmp = np.zeros(shape=(1, x_train.shape[1]))\n",
        "            bias_tmp = 0\n",
        "\n",
        "            random_indexes = np.random.choice(len_train, replace=False, size=self.k) # return rundom indexes (random_state for reproducibility)\n",
        "            x = np.array(x_train.iloc[random_indexes, :])\n",
        "            y = np.array(y_train.iloc[random_indexes, 0])\n",
        "\n",
        "            for i in range(len(x)):\n",
        "                # 'Implicit updates', where -2/k  - can take any number between 0 and 1 or other method optimizing\n",
        "                weight_tmp += x[i] * (y[i] - (np.dot(weight_old, x[i]) + bias_old)) * (-2 / self.k)  \n",
        "                bias_tmp += (y[i] - (np.dot(weight_old, x[i]) + bias_old)) * (-2 / self.k)\n",
        "\n",
        "            weight_current = weight_old - self.learn_rate * weight_tmp\n",
        "            bias_current = bias_old - self.learn_rate * bias_tmp\n",
        "\n",
        "            if (weight_old == weight_current).all(): # stopped learning \n",
        "                break\n",
        "            current_iterate += 1\n",
        "\n",
        "        self.weight = weight_current, \n",
        "        self.bias = bias_current\n",
        "        return weight_current, bias_current\n",
        "\n",
        "    def predict(self, x):\n",
        "        if self.weight is None or self.bias is None:\n",
        "            raise Warning(\"Used parameters dont change\")\n",
        "        y_pred = []\n",
        "        x = np.array(x)\n",
        "        for i in range(len(x)):\n",
        "            y = np.asscalar(np.dot(self.weight[0], x[i]) + self.bias)\n",
        "            print(y)\n",
        "            y_pred.append(y)\n",
        "        return np.array(y_pred)  "
      ],
      "execution_count": 43,
      "outputs": []
    },
    {
      "cell_type": "code",
      "metadata": {
        "id": "M7sQ-OWmL5LX",
        "outputId": "6202340f-fa7f-47af-d45c-74f6afd5c74e",
        "colab": {
          "base_uri": "https://localhost:8080/"
        }
      },
      "source": [
        "SGD = StochasticGradientDescent()\n",
        "SGD.fit(x_train, y_train)\n",
        "y_pred = SGD.predict(x_test)"
      ],
      "execution_count": 44,
      "outputs": [
        {
          "output_type": "stream",
          "text": [
            "[[0.41892624]] [54.3  54.42 56.16 75.05 79.77 94.3  64.79 90.7  52.2  75.14 89.13 90.36\n",
            " 91.9  53.2  68.41 51.56 92.98 88.36 84.46 96.82]\n",
            "23.308301240990325\n",
            "[[0.41892624]] [54.3  54.42 56.16 75.05 79.77 94.3  64.79 90.7  52.2  75.14 89.13 90.36\n",
            " 91.9  53.2  68.41 51.56 92.98 88.36 84.46 96.82]\n",
            "23.358572389919217\n",
            "[[0.41892624]] [54.3  54.42 56.16 75.05 79.77 94.3  64.79 90.7  52.2  75.14 89.13 90.36\n",
            " 91.9  53.2  68.41 51.56 92.98 88.36 84.46 96.82]\n",
            "24.087504049388144\n",
            "[[0.41892624]] [54.3  54.42 56.16 75.05 79.77 94.3  64.79 90.7  52.2  75.14 89.13 90.36\n",
            " 91.9  53.2  68.41 51.56 92.98 88.36 84.46 96.82]\n",
            "32.00102074327784\n",
            "[[0.41892624]] [54.3  54.42 56.16 75.05 79.77 94.3  64.79 90.7  52.2  75.14 89.13 90.36\n",
            " 91.9  53.2  68.41 51.56 92.98 88.36 84.46 96.82]\n",
            "33.978352601147584\n",
            "[[0.41892624]] [54.3  54.42 56.16 75.05 79.77 94.3  64.79 90.7  52.2  75.14 89.13 90.36\n",
            " 91.9  53.2  68.41 51.56 92.98 88.36 84.46 96.82]\n",
            "40.06535088395422\n",
            "[[0.41892624]] [54.3  54.42 56.16 75.05 79.77 94.3  64.79 90.7  52.2  75.14 89.13 90.36\n",
            " 91.9  53.2  68.41 51.56 92.98 88.36 84.46 96.82]\n",
            "27.70283750985761\n",
            "[[0.41892624]] [54.3  54.42 56.16 75.05 79.77 94.3  64.79 90.7  52.2  75.14 89.13 90.36\n",
            " 91.9  53.2  68.41 51.56 92.98 88.36 84.46 96.82]\n",
            "38.55721641608747\n",
            "[[0.41892624]] [54.3  54.42 56.16 75.05 79.77 94.3  64.79 90.7  52.2  75.14 89.13 90.36\n",
            " 91.9  53.2  68.41 51.56 92.98 88.36 84.46 96.82]\n",
            "22.428556134734723\n",
            "[[0.41892624]] [54.3  54.42 56.16 75.05 79.77 94.3  64.79 90.7  52.2  75.14 89.13 90.36\n",
            " 91.9  53.2  68.41 51.56 92.98 88.36 84.46 96.82]\n",
            "32.03872410497451\n",
            "[[0.41892624]] [54.3  54.42 56.16 75.05 79.77 94.3  64.79 90.7  52.2  75.14 89.13 90.36\n",
            " 91.9  53.2  68.41 51.56 92.98 88.36 84.46 96.82]\n",
            "37.89950221760113\n",
            "[[0.41892624]] [54.3  54.42 56.16 75.05 79.77 94.3  64.79 90.7  52.2  75.14 89.13 90.36\n",
            " 91.9  53.2  68.41 51.56 92.98 88.36 84.46 96.82]\n",
            "38.41478149412227\n",
            "[[0.41892624]] [54.3  54.42 56.16 75.05 79.77 94.3  64.79 90.7  52.2  75.14 89.13 90.36\n",
            " 91.9  53.2  68.41 51.56 92.98 88.36 84.46 96.82]\n",
            "39.059927905376384\n",
            "[[0.41892624]] [54.3  54.42 56.16 75.05 79.77 94.3  64.79 90.7  52.2  75.14 89.13 90.36\n",
            " 91.9  53.2  68.41 51.56 92.98 88.36 84.46 96.82]\n",
            "22.84748237580882\n",
            "[[0.41892624]] [54.3  54.42 56.16 75.05 79.77 94.3  64.79 90.7  52.2  75.14 89.13 90.36\n",
            " 91.9  53.2  68.41 51.56 92.98 88.36 84.46 96.82]\n",
            "29.219350502545836\n",
            "[[0.41892624]] [54.3  54.42 56.16 75.05 79.77 94.3  64.79 90.7  52.2  75.14 89.13 90.36\n",
            " 91.9  53.2  68.41 51.56 92.98 88.36 84.46 96.82]\n",
            "22.1604433404473\n",
            "[[0.41892624]] [54.3  54.42 56.16 75.05 79.77 94.3  64.79 90.7  52.2  75.14 89.13 90.36\n",
            " 91.9  53.2  68.41 51.56 92.98 88.36 84.46 96.82]\n",
            "39.51236824573641\n",
            "[[0.41892624]] [54.3  54.42 56.16 75.05 79.77 94.3  64.79 90.7  52.2  75.14 89.13 90.36\n",
            " 91.9  53.2  68.41 51.56 92.98 88.36 84.46 96.82]\n",
            "37.57692901197408\n",
            "[[0.41892624]] [54.3  54.42 56.16 75.05 79.77 94.3  64.79 90.7  52.2  75.14 89.13 90.36\n",
            " 91.9  53.2  68.41 51.56 92.98 88.36 84.46 96.82]\n",
            "35.9431166717851\n",
            "[[0.41892624]] [54.3  54.42 56.16 75.05 79.77 94.3  64.79 90.7  52.2  75.14 89.13 90.36\n",
            " 91.9  53.2  68.41 51.56 92.98 88.36 84.46 96.82]\n",
            "41.121045011460936\n"
          ],
          "name": "stdout"
        },
        {
          "output_type": "stream",
          "text": [
            "/usr/local/lib/python3.6/dist-packages/ipykernel_launcher.py:54: DeprecationWarning: np.asscalar(a) is deprecated since NumPy v1.16, use a.item() instead\n"
          ],
          "name": "stderr"
        }
      ]
    },
    {
      "cell_type": "code",
      "metadata": {
        "id": "uXxsill5L6lx",
        "outputId": "c12fff11-0179-481f-dd1a-6eb33ba4b700",
        "colab": {
          "base_uri": "https://localhost:8080/",
          "height": 295
        }
      },
      "source": [
        "    plt.scatter(x_test, y_pred)\n",
        "    plt.grid()\n",
        "    plt.title('scatter plot between actual y and predicted y')\n",
        "    plt.xlabel('actual y')\n",
        "    plt.ylabel('predicted y')\n",
        "    plt.show()    "
      ],
      "execution_count": 46,
      "outputs": [
        {
          "output_type": "display_data",
          "data": {
            "image/png": "[encoded data removed]",
            "text/plain": [
              "<Figure size 432x288 with 1 Axes>"
            ]
          },
          "metadata": {
            "tags": [],
            "needs_background": "light"
          }
        }
      ]
    },
    {
      "cell_type": "code",
      "metadata": {
        "id": "Tt3SR6GqRK-8"
      },
      "source": [
        ""
      ],
      "execution_count": null,
      "outputs": []
    }
  ]
}